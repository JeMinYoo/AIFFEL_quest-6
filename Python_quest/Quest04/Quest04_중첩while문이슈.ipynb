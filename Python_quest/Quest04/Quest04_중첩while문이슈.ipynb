{
 "cells": [
  {
   "cell_type": "code",
   "execution_count": 1,
   "metadata": {},
   "outputs": [
    {
     "name": "stdout",
     "output_type": "stream",
     "text": [
      "10.0 + 2.0의 계산 결과는: 12.0\n"
     ]
    }
   ],
   "source": [
    "\"\"\" \n",
    "중첩 while의 조건을 True 값을 고정으로 주게 되면, \n",
    "중첩 while문이 하위 while문에서 어떤 처리를 해도 break를 만나지 않으면 벗어날 방법이 없어보임.\n",
    "그래서 while문에 True, False 값을 조건문으로 주어서 입력 값에 따라서 상위 while문을 벗어날 수 있도록 수정함\n",
    "\n",
    "정수 입력 단계와 연산자 입력 단계에서 잘못입력할 때 해당 단계만 다시 입력하게 할 것인지,\n",
    "아니면 이 코드처럼 바로 계속할지 여부를 물어서 반복할지에 대해서 결정할 필요가 추후에 있어 보임\n",
    "\"\"\"\n",
    "import math \n",
    "\n",
    "loop_yor = \"y\" # True 값을 고정으로 주면 계속 진행여부를 묻는 단계에서 예외처리할 방법이 없어 변수로 'y' 값을 주고 향후 입력 값을 받도록 하고자 함\n",
    "while loop_yor == \"y\": \n",
    "  try:\n",
    "    num1 = float(input(\"첫번째 정수를 입력해주세요:\"))\n",
    "    num2 = float(input(\"두번째 정수를 입력해주세요:\"))\n",
    "    oprator = input(\"연산자 +,-, /, *, ** 입력해주세요:\")\n",
    "\n",
    "  except:\n",
    "    print(\"입력한 값이 정수가 아닙니다.\")\n",
    "    continue\n",
    "\n",
    "  else:\n",
    "    if oprator == '+':\n",
    "      print(f\"{num1} {oprator} {num2}의 계산 결과는: {num1+num2}\")\n",
    "    elif oprator == '-':\n",
    "      print(f\"{num1} {oprator} {num2}의 계산 결과는: {num1-num2}\")\n",
    "    elif oprator == '/':\n",
    "      if num2 == 0:\n",
    "          print(\"두 번째 정수가 0입니다. 계산할 수 없습니다.\")\n",
    "      else:\n",
    "          print(f\"{num1} {oprator} {num2}의 계산 결과는: {num1/num2}\")\n",
    "    elif oprator == '*':\n",
    "      print(f\"{num1} {oprator} {num2}의 계산 결과는: {num1*num2}\")\n",
    "    elif oprator == '**':\n",
    "      print(f\"{num1} {oprator} {num2}의 계산 결과는: {math.pow(num1,num2)}\")\n",
    "    else:\n",
    "      # raise Exception('잘못된 연산자를 입력하셨습니다.')\n",
    "      print(\"잘못된 연산자를 입력하셨습니다.\") # raise Exception으로 예외처리하면 프로그램 자체가 종료되어 오류 메시지 프린트로 바꿈\n",
    "      continue\n",
    "  \n",
    "  finally:\n",
    "    while loop_yor != \"y\" or loop_yor != \"n\": # 무한루프에서 벗어나기 위해서 loop_yor 값이 'y'나 'n'이 아닌 경우만 루프를 돌게 함\n",
    "      loop_yor = str(input(\"계속 계산하시겠습니까?(y/n)\")).lower() # 소문자화\n",
    "      if loop_yor == \"y\" or loop_yor == \"n\": # 입력 값이 'y', 'n'가 되면 계속 진행 루프를 벗어나게 함. 그리고 상위 while 문에 input으로 변경된 loop_yor 값에 따라서 전체 반복 계속할지 결정\n",
    "        break\n",
    "      else: \n",
    "        print(\"계속하시려면 Y(또는 y)를 입력해주세요. 종료하시려면 N(또는 n)을 입력해주세요\") # 'y', 'n'를 입력하지 않은 경우는 하위 while을 무한히 돌게함\n",
    "        continue"
   ]
  }
 ],
 "metadata": {
  "kernelspec": {
   "display_name": "Python 3",
   "language": "python",
   "name": "python3"
  },
  "language_info": {
   "codemirror_mode": {
    "name": "ipython",
    "version": 3
   },
   "file_extension": ".py",
   "mimetype": "text/x-python",
   "name": "python",
   "nbconvert_exporter": "python",
   "pygments_lexer": "ipython3",
   "version": "3.12.3"
  }
 },
 "nbformat": 4,
 "nbformat_minor": 2
}
