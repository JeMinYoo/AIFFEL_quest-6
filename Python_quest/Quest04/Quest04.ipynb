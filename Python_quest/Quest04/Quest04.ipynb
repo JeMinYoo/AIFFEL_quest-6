{
  "cells": [
    {
      "cell_type": "markdown",
      "metadata": {
        "id": "view-in-github",
        "colab_type": "text"
      },
      "source": [
        "<a href=\"https://colab.research.google.com/github/bluetss/AIFFEL_quest/blob/master/Python_quest/Quest04/Quest04.ipynb\" target=\"_parent\"><img src=\"https://colab.research.google.com/assets/colab-badge.svg\" alt=\"Open In Colab\"/></a>"
      ]
    },
    {
      "cell_type": "code",
      "execution_count": null,
      "metadata": {
        "colab": {
          "base_uri": "https://localhost:8080/"
        },
        "id": "1HnGuLAiLV1a",
        "collapsed": true,
        "outputId": "19d49295-8923-44ad-ac7c-c6bf4ccbfdfd"
      },
      "outputs": [
        {
          "output_type": "stream",
          "name": "stdout",
          "text": [
            "첫번째 정수를 입력해주세요:10\n",
            "두번째 정수를 입력해주세요:2\n",
            "연산자 +,-, /, *, ** 입력해주세요:+\n",
            "결과는: 12.0\n",
            "계속 계산하시겠습니까?(y/n)n\n",
            "종료합니다.\n"
          ]
        }
      ],
      "source": [
        "\"\"\" 회고\n",
        "신승우님\n",
        "- 처음에  try-except 구문을 어떻게 반복할지 고민하고, 두번째 정수0인 경우, 지정된 연산자 외의 연산자 입력시 예외처리를 했다.\n",
        "- 계속 여부에 대한 반복을 어떻게 할지 다시 고민했고, 중첩 while문으로 하기로 결정했다.\n",
        "- 계속 여부에서 사용자가 y/n를 입력하지 않는 경우를 대비해서 예외처리 문구도 넣었다. 이 때 break를 누락하여 무한 루프에 빠졌는데, finally에서 break문을 추가하여 해결했다.\n",
        "- 중첩 while문과 try-except문, if문 3가지로 작성했는데, 더 빠른 속도로 처리할 수 있는 방법이 있을지 추후 고민해봐야겠다.\n",
        "\n",
        "정권영\n",
        "- 계산기능을 무한루프를 돌리기위해 while반복문을 추가하였고\n",
        "- 예외처리 기능을 위해 Try-except-else-finally 구문을 추가했습니다.\n",
        "- 본문에서 EAFP 방법으로 Try로 예외처리를 하였고, 마지막 finally에는 LBYL 방법으로 IF조건문으로 예외처리를 하였습니다.\n",
        "- 연산자를 if조건문으로 비교하여 계산하였는데 다른방법으로 간결한 코드를 짤 수 있는지 공부해야겠습니다.\n",
        "\n",
        "\"\"\"\n",
        "import math\n",
        "# 연산자를 반복하기 위해서 for문과 while문 중에서 계속 반복을 해야하기 때문에 while문으로 try-except 문을 감쌌습니다.\n",
        "while True:\n",
        "  try:\n",
        "    num1 = float(input(\"첫번째 정수를 입력해주세요:\"))\n",
        "    num2 = float(input(\"두번째 정수를 입력해주세요:\"))\n",
        "    oprator = input(\"연산자 +,-, /, *, ** 입력해주세요:\")\n",
        "\n",
        "  except:\n",
        "    print(\"입력한 값이 정수가 아닙니다. 다시 입력해주세요\")\n",
        "    continue\n",
        "\n",
        "  else:\n",
        "    if oprator == '+':\n",
        "      print(\"결과는:\", num1+num2)\n",
        "    elif oprator == '-':\n",
        "      print(\"결과는:\", num1-num2)\n",
        "    elif oprator == '/':\n",
        "      if num2 == 0:\n",
        "          print(\"두 번째 정수가 0입니다. 계산할 수 없습니다.\")\n",
        "      else:\n",
        "          print(\"결과는:\", num1/num2)\n",
        "    elif oprator == '*':\n",
        "      print(\"결과는:\", num1*num2)\n",
        "    elif oprator == '**':\n",
        "      print(\"결과는:\", math.pow(num1,num2))\n",
        "  # math모듈을 추가안해도 ** 제곱근은 정상출력되는데 math.pow를 사용하여 결과값을 출력했습니다.\n",
        "    else:\n",
        "      raise Exception('잘못된 연산자를 입력하셨습니다.')\n",
        "  # raise Exception 입력하여 잘못된 연산자 메시지출력을 원했는데 구글 코렙에서는 출력 안되네요\n",
        "  # 각 조건마다 break를 추가하여 루프를 종료시켰는데 finally를 추가하게 되어서 break구문은 지웠습니다.\n",
        "\n",
        "  finally:\n",
        "    while True:\n",
        "        yor = str(input(\"계속 계산하시겠습니까?(y/n)\")).lower()\n",
        "  # y/n를 대문자 입력시 동일하게 처리했습니다.\n",
        "        if yor == 'y':\n",
        "          continue\n",
        "        elif yor == 'n':\n",
        "          print(\"종료합니다.\")\n",
        "          break\n",
        "   # 사용자가 y/n 외에 입력할 때 처리 방법도 고민 필요합니다.\n",
        "        else:\n",
        "          print(\"다시 입력해주세요\")\n",
        "          continue\n",
        "    break"
      ]
    },
    {
      "cell_type": "markdown",
      "source": [
        "#"
      ],
      "metadata": {
        "id": "NH4rilTccD3T"
      }
    }
  ],
  "metadata": {
    "colab": {
      "provenance": [],
      "include_colab_link": true
    },
    "kernelspec": {
      "display_name": "Python 3",
      "name": "python3"
    },
    "language_info": {
      "name": "python"
    }
  },
  "nbformat": 4,
  "nbformat_minor": 0
}