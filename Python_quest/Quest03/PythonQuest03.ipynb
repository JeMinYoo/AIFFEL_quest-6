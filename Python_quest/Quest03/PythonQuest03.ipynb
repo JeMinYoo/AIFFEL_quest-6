{
  "nbformat": 4,
  "nbformat_minor": 0,
  "metadata": {
    "colab": {
      "provenance": [],
      "private_outputs": true,
      "include_colab_link": true
    },
    "kernelspec": {
      "name": "python3",
      "display_name": "Python 3"
    },
    "language_info": {
      "name": "python"
    }
  },
  "cells": [
    {
      "cell_type": "markdown",
      "metadata": {
        "id": "view-in-github",
        "colab_type": "text"
      },
      "source": [
        "<a href=\"https://colab.research.google.com/github/bluetss/AIFFEL_quest/blob/master/Python_quest/Quest03/PythonQuest03.ipynb\" target=\"_parent\"><img src=\"https://colab.research.google.com/assets/colab-badge.svg\" alt=\"Open In Colab\"/></a>"
      ]
    },
    {
      "cell_type": "markdown",
      "source": [
        "# [파이썬] 퀘스트: 클로저를 활용한 문제해결하기\n",
        "\n",
        "난이도: ★★★★☆  \n",
        "장르: nonlocal, 클로저, 데코레이터 활용  \n",
        "\n",
        "---\n",
        "\n",
        "\n"
      ],
      "metadata": {
        "id": "sPRcyZsPorCm"
      }
    },
    {
      "cell_type": "markdown",
      "source": [
        "## 문제 1. 최댓값과 최솟값 찾기\n",
        "\n"
      ],
      "metadata": {
        "id": "Dh2vcnApr4VI"
      }
    },
    {
      "cell_type": "markdown",
      "source": [
        "조건:  \n",
        "* 주어진 리스트의 최댓값과 최솟값을 반환하는 클로저 함수를 완성해 주세요.\n",
        "    * 주어진 숫자 리스트 numbers에 대해 find_min_max 함수를 호출하면 find_min과 find_max 함수를 얻을 수 있습니다.\n",
        "    * find_min() 함수를 호출하면 최솟값을, find_max()함수를 호출하면 최댓값을 반환합니다.\n",
        "    * 클로저를 사용하여 min_value와 max_value 변수를 외부에 노출하지 않고도 최솟값과 최대값을 찾을 수 있습니다.\n",
        "    * find_min_max 함수가 호출된 이후에도 find_min과 find_max 함수를 통해 min_value와 max_value 변수에 접근할 수 있습니다.\n",
        "* 주석으로 구현 내용이 써있는 부분을 코드로 채워주세요.\n",
        "---\n",
        "입력:\n",
        "```python\n",
        "numbers = [10, 5, 8, 12, 3, 7]\n",
        "find_min, find_max = find_min_max(numbers)\n",
        "\n",
        "print(\"최솟값:\", find_min())  \n",
        "print(\"최댓값:\", find_max())  \n",
        "```\n",
        "---\n",
        "출력:\n",
        "```\n",
        "3\n",
        "12\n",
        "```\n"
      ],
      "metadata": {
        "id": "d-vXJztpvFD-"
      }
    },
    {
      "cell_type": "code",
      "source": [
        "def find_min_max(numbers):\n",
        "    # min_value와 max_value 변수를 초기화\n",
        "    # min_value는 양의 무한대(float('inf'))로 초기화하여 어떤 숫자보다도 큰 값으로 설정\n",
        "    min_value = float('inf')\n",
        "    # max_value는 음의 무한대(float('-inf'))로 초기화하여 어떤 숫자보다도 작은 값으로 설정\n",
        "    max_value = float('-inf')\n",
        "\n",
        "    def update_min_max(num):\n",
        "        # 외부함수의 변수인 min_value, max_value 참조\n",
        "        nonlocal min_value, max_value\n",
        "\n",
        "        # 만약 num 값이 min_value보다 작다면 min_value를 num 값으로 변경\n",
        "        if num < min_value :\n",
        "            min_value = num\n",
        "\n",
        "        # 만약 num 값이 max_value보다 크다면 max_value를 num 값으로 변경\n",
        "        if num > max_value:\n",
        "            max_value = num\n",
        "\n",
        "\n",
        "    # numbers 리스트의 모든 값을 순환하며 최댓값과 최솟값 업데이트\n",
        "    for num in numbers:\n",
        "        update_min_max(num)\n",
        "\n",
        "    # 최솟값을 반환하는 내부함수\n",
        "    def get_min():\n",
        "        return min_value\n",
        "\n",
        "    # 최댓값을 반환하는 내부함수\n",
        "    def get_max():\n",
        "        return max_value\n",
        "\n",
        "    # 외부함수는 내부함수(get_min()과 get_max())를 반환\n",
        "    # 튜플형식으로 반환해야 추루 find_min, find_max와 일치시킬 수 있음\n",
        "    return get_min, get_max\n",
        "\n",
        "numbers = [10, 5, 8, 12, 3, 7]\n",
        "find_min, find_max = find_min_max(numbers)\n",
        "\n",
        "print(\"최솟값:\", find_min())  # 3\n",
        "print(\"최댓값:\", find_max())  # 12"
      ],
      "metadata": {
        "id": "oF_uYyS2jjPj"
      },
      "execution_count": null,
      "outputs": []
    },
    {
      "cell_type": "markdown",
      "source": [
        "## 문제 2. 함수의 호출 횟수를 세는 데코레이터"
      ],
      "metadata": {
        "id": "d3XECsmXwES5"
      }
    },
    {
      "cell_type": "markdown",
      "source": [
        "지난 시간에 배운 데코레이터를 기억하시나요? 데코레이터도 내부함수를 반환하는 클로저를 활용한 문법입니다. 클로저를 활용하여 함수 호출 횟수를 출력하는 데코레이터를 만들어봅시다.\n",
        "\n",
        "조건:\n",
        "* 함수가 실행될 때 마다 함수 이름과 실행 횟수를 출력하는 데코레이터 `counter` 만들기  \n",
        "\n",
        "힌트:\n",
        "* 데코레이터의 내부 함수(클로저)는 실행횟수를 기억하기 위해 외부 함수의 변수를 참조 해야 합니다\n",
        "* 함수의 이름은 `함수이름.__name__`으로 접근할 수 있습니다.\n",
        "\n",
        "---\n",
        "입력:\n",
        "```python\n",
        "@counter\n",
        "def say_hello():\n",
        "    print(\"Hello Aiffel!\")\n",
        "\n",
        "for i in range(5):\n",
        "    say_hello()\n",
        "```\n",
        "---\n",
        "출력:\n",
        "```\n",
        "Hello Aiffel!\n",
        "say_hello 실행횟수: 1\n",
        "Hello Aiffel!\n",
        "say_hello 실행횟수: 2\n",
        "Hello Aiffel!\n",
        "say_hello 실행횟수: 3\n",
        "Hello Aiffel!\n",
        "say_hello 실행횟수: 4\n",
        "Hello Aiffel!\n",
        "say_hello 실행횟수: 5\n",
        "```"
      ],
      "metadata": {
        "id": "HTdH6DkVvJMF"
      }
    },
    {
      "cell_type": "code",
      "source": [
        "def counter(fn):            # 함수를 매개변수로 하는 counter함수(decorator) 생성\n",
        "    count = 0               # count 변수 초기화\n",
        "    def deco_counter():\n",
        "        nonlocal count      # nonlocal 키워드를 사용하여 바깥 함수의 count 변수에 접근하기, 이를 통해 deco_counter()은 클로저 함수가 됨\n",
        "        fn()                # 매개변수로 주어진 함수를 시행\n",
        "        count += 1          # 클로저 함수는 이전의 값을 누적하여 기억함\n",
        "        print(f\"{fn.__name__} 실행횟수 : {count}\")  # 실행 횟수 출력\n",
        "    return deco_counter     # 데코레이터 함수를 반환\n",
        "\n",
        "@counter                    # say_hello 함수를 시행할 때마다 counter 데코레이터가 작동하도록 적용\n",
        "def say_hello():\n",
        "    print(\"Hello Aiffel!\")\n",
        "\n",
        "for i in range(5):\n",
        "    say_hello()             # say_hello 함수를 5번 호출"
      ],
      "metadata": {
        "id": "x6fP4S27DG01"
      },
      "execution_count": null,
      "outputs": []
    },
    {
      "cell_type": "code",
      "source": [
        "# -- 같은 방법인데 @쓰지않고 적용시킨것 --\n",
        "\n",
        "def counter(fn):\n",
        "    count = 0\n",
        "    def deco_counter():\n",
        "        fn()\n",
        "        nonlocal count\n",
        "        count += 1\n",
        "        print(f\"{fn.__name__} 실행횟수 : {count}\")\n",
        "    return deco_counter\n",
        "\n",
        "def say_hello():\n",
        "    print(\"Hello Aiffel!\")\n",
        "\n",
        "deco_say_hello = counter(say_hello)\n",
        "\n",
        "for i in range(5):\n",
        "    deco_say_hello()"
      ],
      "metadata": {
        "id": "aaQw3V7jHspJ"
      },
      "execution_count": null,
      "outputs": []
    },
    {
      "cell_type": "markdown",
      "source": [
        "# 회고\n",
        "1. 퍼실님이 제공해주신 주석 덕분에 첫번째 코드의 짜임을 어떻게 해야할 지 생각하는 단계를 생략하고 따라서 코드를 짜면 되어서 한결 수월했던 것 같습니다.\n",
        "2. 처음엔 함수의 return 값을  \n",
        "<pre><code>return min_value      \n",
        "return max_value </code></pre>\n",
        "로 작성하였다가 에러가 나서 확인해보니 제공해주신 결괏값 출력 코드가  \n",
        "find_min, find_max = find_min_max(numbers) 즉, 튜플이여서 함수의 return 값을  \n",
        "<pre><code>return min_value, max_value </code></pre>\n",
        "로 튜플형식으로 수정하였습니다\n",
        "3. @decorator의 원리가 조금 헷갈려서 사용하지 않은 버젼도 같이 만들어보니 @decorator가 붙은 함수는 매번 함수가 실행될 때마다 자동으로 데코레이터가 적용되어 훨씬 편하게 적용시킬 수 있다는 것을 배웠습니다.\n",
        "4. 힌트에 '```함수.__name__```으로 함수의 이름을 불러올 수 있다'고 되어있어 이게 왜있을까? 하고 봤더니 코드를 함수 이름 자체를 string으로  \n",
        "```print(f\"say_hello 실행횟수 : {count}\")```\n",
        "라고 생각없이 짜 놓은것을 확인하였고, 수정하였습니다\n",
        "5. 데코레이터에서 매개변수 fn을 통해서 들어온 say_hello() 함수 인자를 중첩함수 deco_counter() 함수 안에서 다시 fn()을 통해서 시행을 해야한다는 점을 맨처음에는 이해하지 못했는데, 페어와 함께 논의하면서 이해를 하게되었습니다. @로 데코레이터를 사용하는경우 이어서 정의하는 함수는 자체적으로 시행되지 않고, 데코레이터의 대상이 되는 counter() 함수 안에서 호출해야지만 시행된다는 점입니다. 따라서 데코레이터를 사용할 경우에는 추후에 say_hello() 처럼 꾸며주는 함수?의 시행을 요구하는 코드를 데코레이터 함수에 선언하는 작업을 해야한다는 점입니다."
      ],
      "metadata": {
        "id": "I3i5VXTjLG0p"
      }
    }
  ]
}