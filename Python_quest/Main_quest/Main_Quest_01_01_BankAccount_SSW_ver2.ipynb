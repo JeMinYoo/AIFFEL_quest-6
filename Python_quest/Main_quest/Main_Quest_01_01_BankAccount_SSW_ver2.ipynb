{
 "cells": [
  {
   "cell_type": "code",
   "execution_count": 181,
   "metadata": {},
   "outputs": [],
   "source": [
    "\"\"\" \n",
    "Aiffel Main Quest 01-01: Bank Account\n",
    "Coder: Seungwoo Shin\n",
    "\n",
    "Sub Quests\n",
    "(v)01.Account 클래스 만들기\n",
    "(v)02.생성된 계좌 개수\n",
    "(v)03.계좌 개수 출력하는 get_account_num() 메서드 추가\n",
    "(v)04.deposit 메서드 추가. 입금을 최소 1원 이상만 가능\n",
    "(v)05.withdraw 메서드\n",
    "(v)06.display_info 메서드 추가\n",
    "(v)07.이자지급하기. 입금 횟수가 5회 이상이면 잔고 기준 1%의 이자가 잔고에 추가되도록 코드를 변경 ※ 단 한 번만 이자지급하는 것으로 코딩함\n",
    "(v)08.인스턴스 3개 이상 저장\n",
    "(v)09.100만원 이상 고객 정보 출력\n",
    "(v)10.deposit_history, withdraw_history 메서드 추가\n",
    "\"\"\"\n",
    "import random\n",
    "import math\n",
    "from datetime import datetime\n",
    "\n",
    "class Account:\n",
    "    bank_name = \"SC은행\"\n",
    "    account_holder = []     # 예금주 리스트 선언\n",
    "    account_balance = []    # 잔액 리스트 선언\n",
    "    account_number = []     # 계좌번호 리스트 선언\n",
    "    number_of_deposits = [] # 입금횟수 리스트 선언\n",
    "    account_deposit_history = [] # 입금기록 리스트 선언\n",
    "    account_withdraw_history = [] # 출금기록 리스트 선언\n",
    "    number_of_accounts = 0\n",
    "\n",
    "    def __init__(self):\n",
    "        Account.number_of_accounts += 1\n",
    "\n",
    "    def inputAccount(self):      \n",
    "        self.account_holder.append(input(\"예금주 이름을 입력해주세요: \"))\n",
    "                \n",
    "        while True:     # 잔액은 숫자를 넣지 않으면 다시 입력하도록\n",
    "            balance = input('최초 입금액을 입력해주세요: ')\n",
    "            if balance.isdigit():   # 입력받은 문자열이 숫자인 경우 True 값으로 반환. int()로 숫자로 변환하려고 했으나, 문자를 입력한 경우 ValueError가 발생하여 프로그램 자체가 멈춤\n",
    "                self.account_balance.append(int(balance))   # 숫자로 입력되면 잔액 리스트에 추가\n",
    "                print(f'{self.account_holder[self.number_of_accounts-1]}님이 입력하신 최초 입금액은 {format(self.account_balance[self.number_of_accounts-1], ',')}원입니다.')\n",
    "                self.number_of_deposits.append(1)\n",
    "                deposit_now = datetime.now()\n",
    "                deposit_daymin = deposit_now.strftime('%Y-%m-%d %H:%M')\n",
    "                self.account_deposit_history.append([[int(balance), '입금' ,deposit_daymin]]) # [[[]-1번 트랜잭션,[]-2번 트랜잭션,[]-3번트랜잭션]-1번계좌,[]-2번계좌,[]-3번계좌]\n",
    "                break\n",
    "            else:\n",
    "                print('숫자를 입력해주세요.')\n",
    "        account_number = f'{random.randint(100,999)}-{random.randint(10,99)}-{random.randint(100000,999999)}'   # 기존 계좌번호와 만약에 동일하면 배제하는 절차가 들어가야함\n",
    "        self.account_number.append(account_number)\n",
    "\n",
    "        print(f'{self.account_holder[self.number_of_accounts-1]}님의 계좌번호는 {self.account_number[self.number_of_accounts-1]}입니다.')\n",
    "\n",
    "        # 확인용\n",
    "        print(self.account_holder)        \n",
    "        print(self.account_balance)\n",
    "        print(self.account_number)\n",
    "        print(self.number_of_deposits)\n",
    "        print(self.account_deposit_history)\n",
    "\n",
    "    @classmethod\n",
    "    def get_account_num(cls):\n",
    "        print(f'{Account.bank_name}이 보유한 계좌는 {cls.number_of_accounts}개입니다.')  # noqa: F821\n",
    "    \n",
    "    def deposit(self):\n",
    "        # 계좌번호를 입력받아서 리스트 인덱싱후 잔액 리스트의 해당 요소에 가산해줌\n",
    "        while self.account_number[0]:   # 계좌번호가 1명이라도 있으면, True 값\n",
    "            deposit_account_number = input('계좌번호를 입력해주세요(-포함):')\n",
    "            if deposit_account_number in self.account_number:\n",
    "                deposit_index = self.account_number.index(deposit_account_number)\n",
    "                print(f'{self.account_holder[deposit_index]}님 환영합니다.')\n",
    "                break\n",
    "            else:\n",
    "                print('찾을 수가 없습니다. 계좌번호를 다시 입력해주세요.')\n",
    "\n",
    "        while self.account_number[0]:\n",
    "            deposit_amount = input('입금액을 입력해주세요: ')\n",
    "            if deposit_amount.isdigit():\n",
    "                if int(deposit_amount) > 0:\n",
    "                    print(f'입금액은 {format(int(deposit_amount), ',')}원입니다.')\n",
    "                    self.account_balance[deposit_index] = self.account_balance[deposit_index] + int(deposit_amount)\n",
    "                    print(f'잔액은 {format(self.account_balance[deposit_index], ',')}원입니다.')\n",
    "                    deposit_now = datetime.now()\n",
    "                    deposit_daymin = deposit_now.strftime('%Y-%m-%d %H:%M')\n",
    "                    self.account_deposit_history.append([[int(deposit_amount), '입금', deposit_daymin]])\n",
    "                    break\n",
    "                else:\n",
    "                    print('입금액은 1원 이상이어야 합니다.')\n",
    "                    continue\n",
    "            else:\n",
    "                print('숫자를 입력해주세요')\n",
    "                continue\n",
    "        \n",
    "        self.number_of_deposits[deposit_index] = self.number_of_deposits[deposit_index] + 1\n",
    "        print(f'{self.account_holder[deposit_index]}님의 입금횟수는 {self.number_of_deposits[deposit_index]}회입니다.')        \n",
    "        \n",
    "        if self.number_of_deposits[deposit_index] == 5:\n",
    "            event_interest = int(math.trunc(self.account_balance[deposit_index] * 0.01)) # 5회가 되면 잔고 기준으로 1% 이자 지급, 소수점에서 절사해서 int 값으로 저장\n",
    "            print(f'{self.account_holder[deposit_index]}님의 입금횟수가 5회가 되어 잔고 기준 1%의 이자 {format(event_interest, ',')}원을 지급합니다.')\n",
    "            self.account_balance[deposit_index] = self.account_balance[deposit_index] + event_interest\n",
    "            print(f'잔액은 {format(self.account_balance[deposit_index], ',')}원입니다.')\n",
    "            event_interest_now = datetime.now()\n",
    "            event_interest_daymin = event_interest_now.strftime('%Y-%m-%d %H:%M')\n",
    "            self.account_deposit_history.append([[event_interest, '이자지급', event_interest_daymin]])\n",
    "\n",
    "    def withdraw(self):\n",
    "        # 계좌번호를 입력받아서 리스트 인덱싱후 잔액 리스트의 해당 요소에 가산해줌\n",
    "        while self.account_number[0]:   # 계좌번호가 1명이라도 있으면, True 값\n",
    "            withdraw_account_number = input('계좌번호를 입력해주세요(-포함):')\n",
    "            if withdraw_account_number in self.account_number:\n",
    "                withdraw_index = self.account_number.index(withdraw_account_number)\n",
    "                print(f'{self.account_holder[withdraw_index]}님 환영합니다.')\n",
    "                break\n",
    "            else:\n",
    "                print('찾을 수가 없습니다. 계좌번호를 다시 입력해주세요.')\n",
    "                continue\n",
    "\n",
    "        while self.account_number[0]:\n",
    "            withdraw_amount = input(f'출금액을 입력해주세요[잔액 {format(self.account_balance[withdraw_index], ',')}원]: ')\n",
    "            if withdraw_amount.isdigit():\n",
    "                if int(withdraw_amount) > 0 and int(withdraw_amount) <= self.account_balance[withdraw_index]:\n",
    "                    print(f'출금액은 {format(int(withdraw_amount), ',')}원입니다.')\n",
    "                    self.account_balance[withdraw_index] = self.account_balance[withdraw_index] - int(withdraw_amount)\n",
    "                    print(f'잔액은 {format(self.account_balance[withdraw_index], ',')}원입니다.')\n",
    "                    withdraw_now = datetime.now()\n",
    "                    withdraw_daymin = withdraw_now.strftime('%Y-%m-%d %H:%M')\n",
    "                    self.account_withdraw_history.append([[int(withdraw_amount), '출금', withdraw_daymin]])\n",
    "                    break\n",
    "                else:\n",
    "                    print('출금액은 1원 이상이거나 잔액 이하이어야 합니다.')\n",
    "                    continue\n",
    "            else:\n",
    "                print('숫자를 입력해주세요')\n",
    "                continue                    \n",
    "\n",
    "    def display_info(self):\n",
    "        for i in range(len(self.account_number)):\n",
    "            print(f'은행이름: {Account.bank_name}, 예금주: {self.account_holder[i]}, 계좌번호: {self.account_number[i]}, 잔고: {format(self.account_balance[i], ',')}원')\n",
    "        \n",
    "\n",
    "    def display_million(self):\n",
    "        print(f'다음은 {Account.bank_name}의 잔고가 100만원이 넘는 고객 명단입니다.')\n",
    "        for i, value in enumerate(self.account_balance): # 객체 순환을 위해서 enumerate를 사용\n",
    "            if value >= 1000000:\n",
    "                print(f'은행이름: {Account.bank_name}, 예금주: {self.account_holder[i]}, 계좌번호: {self.account_number[i]}, 잔고: {format(self.account_balance[i], ',')}원')\n",
    "        \n",
    "        # 추후 한 명도 없을 경우 안내문 보강\n",
    "        \n",
    "    def deposit_history(self):\n",
    "        # 계좌번호를 입력받아서 리스트 인덱싱후 잔액 리스트의 해당 요소에 가산해줌\n",
    "        while self.account_number[0]:   # 계좌번호가 1명이라도 있으면, True 값\n",
    "            deposit_account_number = input('계좌번호를 입력해주세요(-포함):')\n",
    "            if deposit_account_number in self.account_number:\n",
    "                deposit_index = self.account_number.index(deposit_account_number)\n",
    "                print(f'{self.account_holder[deposit_index]}님 환영합니다.')\n",
    "                break\n",
    "            else:\n",
    "                print('찾을 수가 없습니다. 계좌번호를 다시 입력해주세요.')\n",
    "        \n",
    "        for i in range(len(self.account_deposit_history)):\n",
    "            for j in range(len(self.account_deposit_history[i])):\n",
    "                print(self.account_deposit_history[i][j])\n",
    "\n",
    "    def withdraw_history(self):\n",
    "        # 계좌번호를 입력받아서 리스트 인덱싱후 잔액 리스트의 해당 요소에 가산해줌\n",
    "        while self.account_number[0]:   # 계좌번호가 1명이라도 있으면, True 값\n",
    "            withdraw_account_number = input('계좌번호를 입력해주세요(-포함):')\n",
    "            if withdraw_account_number in self.account_number:\n",
    "                withdraw_index = self.account_number.index(withdraw_account_number)\n",
    "                print(f'{self.account_holder[withdraw_index]}님 환영합니다.')\n",
    "                break\n",
    "            else:\n",
    "                print('찾을 수가 없습니다. 계좌번호를 다시 입력해주세요.')\n",
    "        \n",
    "        for i in range(len(self.account_withdraw_history)):\n",
    "            for j in range(len(self.account_withdraw_history[i])):\n",
    "                print(self.account_withdraw_history[i][j])                \n"
   ]
  },
  {
   "cell_type": "code",
   "execution_count": 182,
   "metadata": {},
   "outputs": [
    {
     "name": "stdout",
     "output_type": "stream",
     "text": [
      "신승우님이 입력하신 최초 입금액은 100,000,000원입니다.\n",
      "신승우님의 계좌번호는 604-19-116704입니다.\n",
      "['신승우']\n",
      "[100000000]\n",
      "['604-19-116704']\n",
      "[1]\n",
      "[[[100000000, '입금', '2024-05-28 22:10']]]\n",
      "SC은행이 보유한 계좌는 1개입니다.\n"
     ]
    }
   ],
   "source": [
    "a = Account()\n",
    "a.inputAccount()\n",
    "a.get_account_num()\n",
    "\n"
   ]
  },
  {
   "cell_type": "code",
   "execution_count": 186,
   "metadata": {},
   "outputs": [
    {
     "name": "stdout",
     "output_type": "stream",
     "text": [
      "신승우님 환영합니다.\n",
      "입금액은 500,000원입니다.\n",
      "잔액은 100,565,555원입니다.\n",
      "신승우님의 입금횟수는 5회입니다.\n",
      "신승우님의 입금횟수가 5회가 되어 잔고 기준 1%의 이자 1,005,655원을 지급합니다.\n",
      "잔액은 101,571,210원입니다.\n"
     ]
    }
   ],
   "source": [
    "a.deposit()"
   ]
  },
  {
   "cell_type": "code",
   "execution_count": 187,
   "metadata": {},
   "outputs": [
    {
     "name": "stdout",
     "output_type": "stream",
     "text": [
      "신승우님 환영합니다.\n",
      "출금액은 500,000원입니다.\n",
      "잔액은 101,071,210원입니다.\n"
     ]
    }
   ],
   "source": [
    "a.withdraw()"
   ]
  },
  {
   "cell_type": "code",
   "execution_count": 188,
   "metadata": {},
   "outputs": [
    {
     "name": "stdout",
     "output_type": "stream",
     "text": [
      "은행이름: SC은행, 예금주: 신승우, 계좌번호: 604-19-116704, 잔고: 101,071,210원\n"
     ]
    }
   ],
   "source": [
    "a.display_info()"
   ]
  },
  {
   "cell_type": "code",
   "execution_count": 189,
   "metadata": {},
   "outputs": [
    {
     "name": "stdout",
     "output_type": "stream",
     "text": [
      "다음은 SC은행의 잔고가 100만원이 넘는 고객 명단입니다.\n",
      "은행이름: SC은행, 예금주: 신승우, 계좌번호: 604-19-116704, 잔고: 101,071,210원\n"
     ]
    }
   ],
   "source": [
    "a.display_million()"
   ]
  },
  {
   "cell_type": "code",
   "execution_count": 190,
   "metadata": {},
   "outputs": [
    {
     "name": "stdout",
     "output_type": "stream",
     "text": [
      "신승우님 환영합니다.\n",
      "[100000000, '입금', '2024-05-28 22:10']\n",
      "[50000, '입금', '2024-05-28 22:11']\n",
      "[5555, '입금', '2024-05-28 22:11']\n",
      "[10000, '입금', '2024-05-28 22:11']\n",
      "[500000, '입금', '2024-05-28 22:11']\n",
      "[1005655, '이자지급', '2024-05-28 22:11']\n"
     ]
    }
   ],
   "source": [
    "a.deposit_history()"
   ]
  },
  {
   "cell_type": "code",
   "execution_count": 191,
   "metadata": {},
   "outputs": [
    {
     "name": "stdout",
     "output_type": "stream",
     "text": [
      "신승우님 환영합니다.\n",
      "[500000, '출금', '2024-05-28 22:11']\n"
     ]
    }
   ],
   "source": [
    "a.withdraw_history()"
   ]
  }
 ],
 "metadata": {
  "kernelspec": {
   "display_name": "Python 3",
   "language": "python",
   "name": "python3"
  },
  "language_info": {
   "codemirror_mode": {
    "name": "ipython",
    "version": 3
   },
   "file_extension": ".py",
   "mimetype": "text/x-python",
   "name": "python",
   "nbconvert_exporter": "python",
   "pygments_lexer": "ipython3",
   "version": "3.12.3"
  }
 },
 "nbformat": 4,
 "nbformat_minor": 2
}
