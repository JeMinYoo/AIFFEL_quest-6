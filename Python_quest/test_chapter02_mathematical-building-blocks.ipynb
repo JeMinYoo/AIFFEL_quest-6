{
  "cells": [
    {
      "cell_type": "markdown",
      "metadata": {
        "id": "TD2VFLNa1qIr"
      },
      "source": [
        "이 노트북은 [케라스 창시자에게 배우는 딥러닝 2판](https://tensorflow.blog/kerasdl2/)의 예제 코드를 담고 있습니다.\n",
        "\n",
        "<table align=\"left\"><tr><td>\n",
        "<a href=\"https://colab.research.google.com/github/rickiepark/deep-learning-with-python-2nd/blob/master/chapter02_mathematical-building-blocks.ipynb\" target=\"_parent\"><img src=\"https://colab.research.google.com/assets/colab-badge.svg\" alt=\"Open In Colab\"/></a>\n",
        "</td></tr></table>"
      ]
    },
    {
      "cell_type": "markdown",
      "metadata": {
        "id": "mokNYTez1qIt"
      },
      "source": [
        "# 신경망의 수학적 구성 요소"
      ]
    },
    {
      "cell_type": "markdown",
      "metadata": {
        "id": "TEnmFpmg1qIu"
      },
      "source": [
        "## 신경망과의 첫 만남"
      ]
    },
    {
      "cell_type": "markdown",
      "metadata": {
        "id": "nlRV5eGp1qIu"
      },
      "source": [
        "**케라스에서 MNIST 데이터셋 적재하기**"
      ]
    },
    {
      "cell_type": "code",
      "execution_count": 835,
      "metadata": {
        "colab": {
          "base_uri": "https://localhost:8080/"
        },
        "execution": {
          "iopub.execute_input": "2022-05-21T00:57:05.419691Z",
          "iopub.status.busy": "2022-05-21T00:57:05.419221Z",
          "iopub.status.idle": "2022-05-21T00:57:07.931588Z",
          "shell.execute_reply": "2022-05-21T00:57:07.930532Z"
        },
        "id": "Kbsv3tf21qIu",
        "outputId": "7201b450-81b9-465c-b1d0-5f8211b3f5c5"
      },
      "outputs": [],
      "source": [
        "from tensorflow.keras.datasets import mnist\n",
        "(train_images, train_labels), (test_images, test_labels) = mnist.load_data()"
      ]
    },
    {
      "cell_type": "code",
      "execution_count": 824,
      "metadata": {
        "colab": {
          "base_uri": "https://localhost:8080/"
        },
        "execution": {
          "iopub.execute_input": "2022-05-21T00:57:07.936250Z",
          "iopub.status.busy": "2022-05-21T00:57:07.935565Z",
          "iopub.status.idle": "2022-05-21T00:57:07.945910Z",
          "shell.execute_reply": "2022-05-21T00:57:07.945184Z"
        },
        "id": "GjsNOiRZ1qIw",
        "outputId": "c5320d2a-4fe2-458d-82a7-4ca90a7cbe37"
      },
      "outputs": [
        {
          "data": {
            "text/plain": [
              "(60000, 28, 28)"
            ]
          },
          "execution_count": 824,
          "metadata": {},
          "output_type": "execute_result"
        }
      ],
      "source": [
        "train_images.shape"
      ]
    },
    {
      "cell_type": "code",
      "execution_count": 705,
      "metadata": {},
      "outputs": [
        {
          "data": {
            "text/plain": [
              "array([[  0,   0,   0,   0,   0,   0,   0,   0,   0,   0,   0,   0,   0,\n",
              "          0,   0,   0,   0,   0,   0,   0,   0,   0,   0,   0,   0,   0,\n",
              "          0,   0],\n",
              "       [  0,   0,   0,   0,   0,   0,   0,   0,   0,   0,   0,   0,   0,\n",
              "          0,   0,   0,   0,   0,   0,   0,   0,   0,   0,   0,   0,   0,\n",
              "          0,   0],\n",
              "       [  0,   0,   0,   0,   0,   0,   0,   0,   0,   0,   0,   0,   0,\n",
              "          0,   0,   0,   0,   0,   0,   0,   0,   0,   0,   0,   0,   0,\n",
              "          0,   0],\n",
              "       [  0,   0,   0,   0,   0,   0,   0,   0,   0,   0,   0,   0,   0,\n",
              "          0,   0,   0,   0,   0,   0,   0,   0,   0,   0,   0,   0,   0,\n",
              "          0,   0],\n",
              "       [  0,   0,   0,   0,   0,   0,   0,   0,   0,   0,   0,   0,   0,\n",
              "          0,   0,   0,   0,   0,   0,   0,   0,   0,   0,   0,   0,   0,\n",
              "          0,   0],\n",
              "       [  0,   0,   0,   0,   0,   0,   0,   0,   0,   0,   0,   0,   0,\n",
              "          0,   0,   0,   0,   0,   0,   0,   0,   0,   0,   0,   0,   0,\n",
              "          0,   0],\n",
              "       [  0,   0,   0,   0,   0,   0,   0,   0,   0,   0,   0,   0,   0,\n",
              "          2,  18,  46, 136, 136, 244, 255, 241, 103,   0,   0,   0,   0,\n",
              "          0,   0],\n",
              "       [  0,   0,   0,   0,   0,   0,   0,   0,   0,   0,   0,  15,  94,\n",
              "        163, 253, 253, 253, 253, 238, 218, 204,  35,   0,   0,   0,   0,\n",
              "          0,   0],\n",
              "       [  0,   0,   0,   0,   0,   0,   0,   0,   0,   0,   0, 131, 253,\n",
              "        253, 253, 253, 237, 200,  57,   0,   0,   0,   0,   0,   0,   0,\n",
              "          0,   0],\n",
              "       [  0,   0,   0,   0,   0,   0,   0,   0,   0,   0, 155, 246, 253,\n",
              "        247, 108,  65,  45,   0,   0,   0,   0,   0,   0,   0,   0,   0,\n",
              "          0,   0],\n",
              "       [  0,   0,   0,   0,   0,   0,   0,   0,   0,   0, 207, 253, 253,\n",
              "        230,   0,   0,   0,   0,   0,   0,   0,   0,   0,   0,   0,   0,\n",
              "          0,   0],\n",
              "       [  0,   0,   0,   0,   0,   0,   0,   0,   0,   0, 157, 253, 253,\n",
              "        125,   0,   0,   0,   0,   0,   0,   0,   0,   0,   0,   0,   0,\n",
              "          0,   0],\n",
              "       [  0,   0,   0,   0,   0,   0,   0,   0,   0,   0,  89, 253, 250,\n",
              "         57,   0,   0,   0,   0,   0,   0,   0,   0,   0,   0,   0,   0,\n",
              "          0,   0],\n",
              "       [  0,   0,   0,   0,   0,   0,   0,   0,   0,   0,  89, 253, 247,\n",
              "          0,   0,   0,   0,   0,   0,   0,   0,   0,   0,   0,   0,   0,\n",
              "          0,   0],\n",
              "       [  0,   0,   0,   0,   0,   0,   0,   0,   0,   0,  89, 253, 247,\n",
              "          0,   0,   0,   0,   0,   0,   0,   0,   0,   0,   0,   0,   0,\n",
              "          0,   0],\n",
              "       [  0,   0,   0,   0,   0,   0,   0,   0,   0,   0,  89, 253, 247,\n",
              "          0,   0,   0,   0,   0,   0,   0,   0,   0,   0,   0,   0,   0,\n",
              "          0,   0],\n",
              "       [  0,   0,   0,   0,   0,   0,   0,   0,   0,   0,  21, 231, 249,\n",
              "         34,   0,   0,   0,   0,   0,   0,   0,   0,   0,   0,   0,   0,\n",
              "          0,   0],\n",
              "       [  0,   0,   0,   0,   0,   0,   0,   0,   0,   0,   0, 225, 253,\n",
              "        231, 213, 213, 123,  16,   0,   0,   0,   0,   0,   0,   0,   0,\n",
              "          0,   0],\n",
              "       [  0,   0,   0,   0,   0,   0,   0,   0,   0,   0,   0, 172, 253,\n",
              "        253, 253, 253, 253, 190,  63,   0,   0,   0,   0,   0,   0,   0,\n",
              "          0,   0],\n",
              "       [  0,   0,   0,   0,   0,   0,   0,   0,   0,   0,   0,   2, 116,\n",
              "         72, 124, 209, 253, 253, 141,   0,   0,   0,   0,   0,   0,   0,\n",
              "          0,   0],\n",
              "       [  0,   0,   0,   0,   0,   0,   0,   0,   0,   0,   0,   0,   0,\n",
              "          0,   0,  25, 219, 253, 206,   3,   0,   0,   0,   0,   0,   0,\n",
              "          0,   0],\n",
              "       [  0,   0,   0,   0,   0,   0,   0,   0,   0,   0,   0,   0,   0,\n",
              "          0,   0,   0, 104, 246, 253,   5,   0,   0,   0,   0,   0,   0,\n",
              "          0,   0],\n",
              "       [  0,   0,   0,   0,   0,   0,   0,   0,   0,   0,   0,   0,   0,\n",
              "          0,   0,   0,   0, 213, 253,   5,   0,   0,   0,   0,   0,   0,\n",
              "          0,   0],\n",
              "       [  0,   0,   0,   0,   0,   0,   0,   0,   0,   0,   0,   0,   0,\n",
              "          0,   0,   0,  26, 226, 253,   5,   0,   0,   0,   0,   0,   0,\n",
              "          0,   0],\n",
              "       [  0,   0,   0,   0,   0,   0,   0,   0,   0,   0,   0,   0,   0,\n",
              "          0,   0,   0, 132, 253, 209,   3,   0,   0,   0,   0,   0,   0,\n",
              "          0,   0],\n",
              "       [  0,   0,   0,   0,   0,   0,   0,   0,   0,   0,   0,   0,   0,\n",
              "          0,   0,   0,  78, 253,  86,   0,   0,   0,   0,   0,   0,   0,\n",
              "          0,   0],\n",
              "       [  0,   0,   0,   0,   0,   0,   0,   0,   0,   0,   0,   0,   0,\n",
              "          0,   0,   0,   0,   0,   0,   0,   0,   0,   0,   0,   0,   0,\n",
              "          0,   0],\n",
              "       [  0,   0,   0,   0,   0,   0,   0,   0,   0,   0,   0,   0,   0,\n",
              "          0,   0,   0,   0,   0,   0,   0,   0,   0,   0,   0,   0,   0,\n",
              "          0,   0]], dtype=uint8)"
            ]
          },
          "execution_count": 705,
          "metadata": {},
          "output_type": "execute_result"
        }
      ],
      "source": [
        "train_images[100]"
      ]
    },
    {
      "cell_type": "code",
      "execution_count": 706,
      "metadata": {
        "colab": {
          "base_uri": "https://localhost:8080/"
        },
        "execution": {
          "iopub.execute_input": "2022-05-21T00:57:07.949595Z",
          "iopub.status.busy": "2022-05-21T00:57:07.948880Z",
          "iopub.status.idle": "2022-05-21T00:57:07.953413Z",
          "shell.execute_reply": "2022-05-21T00:57:07.952780Z"
        },
        "id": "BMvJUobh1qIw",
        "outputId": "88e86ae3-aee1-41e9-f72a-75dd0cf1955f"
      },
      "outputs": [
        {
          "data": {
            "text/plain": [
              "60000"
            ]
          },
          "execution_count": 706,
          "metadata": {},
          "output_type": "execute_result"
        }
      ],
      "source": [
        "len(train_labels)"
      ]
    },
    {
      "cell_type": "code",
      "execution_count": 707,
      "metadata": {
        "colab": {
          "base_uri": "https://localhost:8080/"
        },
        "execution": {
          "iopub.execute_input": "2022-05-21T00:57:07.956620Z",
          "iopub.status.busy": "2022-05-21T00:57:07.956158Z",
          "iopub.status.idle": "2022-05-21T00:57:07.961433Z",
          "shell.execute_reply": "2022-05-21T00:57:07.960670Z"
        },
        "id": "VhW9RYKv1qIw",
        "outputId": "62733305-1f61-45b3-aee5-a924484cd952"
      },
      "outputs": [
        {
          "data": {
            "text/plain": [
              "array([5, 0, 4, ..., 5, 6, 8], dtype=uint8)"
            ]
          },
          "execution_count": 707,
          "metadata": {},
          "output_type": "execute_result"
        }
      ],
      "source": [
        "train_labels"
      ]
    },
    {
      "cell_type": "code",
      "execution_count": 708,
      "metadata": {
        "colab": {
          "base_uri": "https://localhost:8080/"
        },
        "execution": {
          "iopub.execute_input": "2022-05-21T00:57:07.964700Z",
          "iopub.status.busy": "2022-05-21T00:57:07.964447Z",
          "iopub.status.idle": "2022-05-21T00:57:07.969443Z",
          "shell.execute_reply": "2022-05-21T00:57:07.968645Z"
        },
        "id": "s-H4DSiI1qIx",
        "outputId": "8f13466c-121f-427c-fed4-3cfd37d794e5"
      },
      "outputs": [
        {
          "data": {
            "text/plain": [
              "(10000, 28, 28)"
            ]
          },
          "execution_count": 708,
          "metadata": {},
          "output_type": "execute_result"
        }
      ],
      "source": [
        "test_images.shape"
      ]
    },
    {
      "cell_type": "code",
      "execution_count": 709,
      "metadata": {
        "colab": {
          "base_uri": "https://localhost:8080/"
        },
        "execution": {
          "iopub.execute_input": "2022-05-21T00:57:07.973895Z",
          "iopub.status.busy": "2022-05-21T00:57:07.973604Z",
          "iopub.status.idle": "2022-05-21T00:57:07.978539Z",
          "shell.execute_reply": "2022-05-21T00:57:07.977669Z"
        },
        "id": "arJVF8HY1qIx",
        "outputId": "5868f1aa-cccb-4816-af2a-a5c5d3298103"
      },
      "outputs": [
        {
          "data": {
            "text/plain": [
              "10000"
            ]
          },
          "execution_count": 709,
          "metadata": {},
          "output_type": "execute_result"
        }
      ],
      "source": [
        "len(test_labels)"
      ]
    },
    {
      "cell_type": "code",
      "execution_count": 710,
      "metadata": {
        "colab": {
          "base_uri": "https://localhost:8080/"
        },
        "execution": {
          "iopub.execute_input": "2022-05-21T00:57:07.982841Z",
          "iopub.status.busy": "2022-05-21T00:57:07.982277Z",
          "iopub.status.idle": "2022-05-21T00:57:07.987700Z",
          "shell.execute_reply": "2022-05-21T00:57:07.986719Z"
        },
        "id": "9mGmW7a81qIy",
        "outputId": "ebf69b4c-d27b-4197-ff49-454b4f38e4fc"
      },
      "outputs": [
        {
          "data": {
            "text/plain": [
              "array([7, 2, 1, ..., 4, 5, 6], dtype=uint8)"
            ]
          },
          "execution_count": 710,
          "metadata": {},
          "output_type": "execute_result"
        }
      ],
      "source": [
        "test_labels"
      ]
    },
    {
      "cell_type": "markdown",
      "metadata": {
        "id": "lkR5Kdxs1qIy"
      },
      "source": [
        "**신경망 구조**"
      ]
    },
    {
      "cell_type": "code",
      "execution_count": 836,
      "metadata": {
        "execution": {
          "iopub.execute_input": "2022-05-21T00:57:07.991164Z",
          "iopub.status.busy": "2022-05-21T00:57:07.990885Z",
          "iopub.status.idle": "2022-05-21T00:57:08.025097Z",
          "shell.execute_reply": "2022-05-21T00:57:08.023960Z"
        },
        "id": "nGjggIFO1qIy"
      },
      "outputs": [],
      "source": [
        "from tensorflow import keras\n",
        "from tensorflow.keras import layers\n",
        "model = keras.Sequential([\n",
        "    layers.Dense(1024, activation=\"relu\"),   # 512는 히든 레이어 1의 노드 개수를 초기에 셋팅해주는 것임, 적절한 노드의 개수를 찾는 것이 모델을 설계하는 것임. activation function은 다양하고, relu 를 일반적으로 많이 사용함\n",
        "    layers.Dense(10, activation=\"softmax\")  # 10은 결과 값으로 10개의 숫자를 맞추라는 것임?\n",
        "])"
      ]
    },
    {
      "cell_type": "markdown",
      "metadata": {
        "id": "ztkKhME61qIy"
      },
      "source": [
        "**컴파일 단계**"
      ]
    },
    {
      "cell_type": "code",
      "execution_count": 837,
      "metadata": {
        "execution": {
          "iopub.execute_input": "2022-05-21T00:57:08.029264Z",
          "iopub.status.busy": "2022-05-21T00:57:08.028955Z",
          "iopub.status.idle": "2022-05-21T00:57:08.043873Z",
          "shell.execute_reply": "2022-05-21T00:57:08.042917Z"
        },
        "id": "XAll1_qf1qIz"
      },
      "outputs": [],
      "source": [
        "model.compile(optimizer=\"rmsprop\",\n",
        "            loss=\"sparse_categorical_crossentropy\",\n",
        "            metrics=[\"accuracy\"])"
      ]
    },
    {
      "cell_type": "markdown",
      "metadata": {
        "id": "IfXepSHu1qIz"
      },
      "source": [
        "**이미지 데이터 준비하기**"
      ]
    },
    {
      "cell_type": "code",
      "execution_count": 838,
      "metadata": {
        "execution": {
          "iopub.execute_input": "2022-05-21T00:57:08.047878Z",
          "iopub.status.busy": "2022-05-21T00:57:08.047587Z",
          "iopub.status.idle": "2022-05-21T00:57:08.461821Z",
          "shell.execute_reply": "2022-05-21T00:57:08.460699Z"
        },
        "id": "0VedXTKL1qIz"
      },
      "outputs": [],
      "source": [
        "train_images = train_images.reshape((60000, 28 * 28))   # 28 by 28 이미지를 1차원으로 납작하게 만드는 것\n",
        "train_images = train_images.astype(\"float32\") / 255\n",
        "test_images = test_images.reshape((10000, 28 * 28))\n",
        "test_images = test_images.astype(\"float32\") / 255"
      ]
    },
    {
      "cell_type": "markdown",
      "metadata": {
        "id": "r9cuYTKi1qIz"
      },
      "source": [
        "**모델 훈련**"
      ]
    },
    {
      "cell_type": "code",
      "execution_count": 839,
      "metadata": {
        "colab": {
          "base_uri": "https://localhost:8080/"
        },
        "execution": {
          "iopub.execute_input": "2022-05-21T00:57:08.466297Z",
          "iopub.status.busy": "2022-05-21T00:57:08.465542Z",
          "iopub.status.idle": "2022-05-21T00:57:19.300649Z",
          "shell.execute_reply": "2022-05-21T00:57:19.299825Z"
        },
        "id": "LstMGeYK1qIz",
        "outputId": "4165fd82-ffb9-49d5-afa1-92bb0507340d"
      },
      "outputs": [
        {
          "name": "stdout",
          "output_type": "stream",
          "text": [
            "Epoch 1/5\n",
            "\u001b[1m469/469\u001b[0m \u001b[32m━━━━━━━━━━━━━━━━━━━━\u001b[0m\u001b[37m\u001b[0m \u001b[1m4s\u001b[0m 7ms/step - accuracy: 0.8762 - loss: 0.4135\n",
            "Epoch 2/5\n",
            "\u001b[1m469/469\u001b[0m \u001b[32m━━━━━━━━━━━━━━━━━━━━\u001b[0m\u001b[37m\u001b[0m \u001b[1m3s\u001b[0m 6ms/step - accuracy: 0.9709 - loss: 0.1000\n",
            "Epoch 3/5\n",
            "\u001b[1m469/469\u001b[0m \u001b[32m━━━━━━━━━━━━━━━━━━━━\u001b[0m\u001b[37m\u001b[0m \u001b[1m5s\u001b[0m 6ms/step - accuracy: 0.9822 - loss: 0.0593\n",
            "Epoch 4/5\n",
            "\u001b[1m469/469\u001b[0m \u001b[32m━━━━━━━━━━━━━━━━━━━━\u001b[0m\u001b[37m\u001b[0m \u001b[1m3s\u001b[0m 6ms/step - accuracy: 0.9875 - loss: 0.0404\n",
            "Epoch 5/5\n",
            "\u001b[1m469/469\u001b[0m \u001b[32m━━━━━━━━━━━━━━━━━━━━\u001b[0m\u001b[37m\u001b[0m \u001b[1m3s\u001b[0m 7ms/step - accuracy: 0.9912 - loss: 0.0290\n"
          ]
        },
        {
          "data": {
            "text/plain": [
              "<keras.src.callbacks.history.History at 0x1f0a8bc6fd0>"
            ]
          },
          "execution_count": 839,
          "metadata": {},
          "output_type": "execute_result"
        }
      ],
      "source": [
        "model.fit(train_images, train_labels, epochs=5, batch_size=128)"
      ]
    },
    {
      "cell_type": "markdown",
      "metadata": {
        "id": "iQgihs241qI0"
      },
      "source": [
        "**모델을 사용해 예측 만들기**"
      ]
    },
    {
      "cell_type": "code",
      "execution_count": 813,
      "metadata": {
        "colab": {
          "base_uri": "https://localhost:8080/"
        },
        "execution": {
          "iopub.execute_input": "2022-05-21T00:57:19.304176Z",
          "iopub.status.busy": "2022-05-21T00:57:19.303848Z",
          "iopub.status.idle": "2022-05-21T00:57:19.406311Z",
          "shell.execute_reply": "2022-05-21T00:57:19.405251Z"
        },
        "id": "qV8_w05L1qI0",
        "outputId": "2511d228-87cd-4587-9364-c61f9ad1fd90"
      },
      "outputs": [
        {
          "name": "stdout",
          "output_type": "stream",
          "text": [
            "\u001b[1m1/1\u001b[0m \u001b[32m━━━━━━━━━━━━━━━━━━━━\u001b[0m\u001b[37m\u001b[0m \u001b[1m0s\u001b[0m 67ms/step\n"
          ]
        },
        {
          "data": {
            "text/plain": [
              "array([1.6247064e-08, 9.0937391e-09, 2.5640458e-07, 2.9277773e-05,\n",
              "       5.4063941e-12, 2.7649632e-08, 1.5173650e-12, 9.9996817e-01,\n",
              "       6.4850248e-08, 2.1608498e-06], dtype=float32)"
            ]
          },
          "execution_count": 813,
          "metadata": {},
          "output_type": "execute_result"
        }
      ],
      "source": [
        "test_digits = test_images[0:10]\n",
        "predictions = model.predict(test_digits) # 소프트맥스의 결과값을 보기 위함?\n",
        "predictions[0]"
      ]
    },
    {
      "cell_type": "code",
      "execution_count": 814,
      "metadata": {
        "colab": {
          "base_uri": "https://localhost:8080/"
        },
        "execution": {
          "iopub.execute_input": "2022-05-21T00:57:19.410311Z",
          "iopub.status.busy": "2022-05-21T00:57:19.409575Z",
          "iopub.status.idle": "2022-05-21T00:57:19.414980Z",
          "shell.execute_reply": "2022-05-21T00:57:19.414116Z"
        },
        "id": "zc_2oAmH1qI0",
        "outputId": "492713a5-7529-4796-9c4f-8b1ef1b500a1"
      },
      "outputs": [
        {
          "data": {
            "text/plain": [
              "7"
            ]
          },
          "execution_count": 814,
          "metadata": {},
          "output_type": "execute_result"
        }
      ],
      "source": [
        "predictions[0].argmax()"
      ]
    },
    {
      "cell_type": "code",
      "execution_count": 815,
      "metadata": {
        "colab": {
          "base_uri": "https://localhost:8080/"
        },
        "execution": {
          "iopub.execute_input": "2022-05-21T00:57:19.418674Z",
          "iopub.status.busy": "2022-05-21T00:57:19.418395Z",
          "iopub.status.idle": "2022-05-21T00:57:19.424303Z",
          "shell.execute_reply": "2022-05-21T00:57:19.423160Z"
        },
        "id": "G96ao1pL1qI0",
        "outputId": "f58f074e-2e7a-4eeb-fc0b-bab94bc88bce"
      },
      "outputs": [
        {
          "data": {
            "text/plain": [
              "0.9999682"
            ]
          },
          "execution_count": 815,
          "metadata": {},
          "output_type": "execute_result"
        }
      ],
      "source": [
        "predictions[0][7]"
      ]
    },
    {
      "cell_type": "code",
      "execution_count": 816,
      "metadata": {
        "colab": {
          "base_uri": "https://localhost:8080/"
        },
        "execution": {
          "iopub.execute_input": "2022-05-21T00:57:19.428684Z",
          "iopub.status.busy": "2022-05-21T00:57:19.428277Z",
          "iopub.status.idle": "2022-05-21T00:57:19.433154Z",
          "shell.execute_reply": "2022-05-21T00:57:19.432273Z"
        },
        "id": "CmsTCGMe1qI0",
        "outputId": "2b11ded4-b594-40d4-de00-ec896d3fd038"
      },
      "outputs": [
        {
          "data": {
            "text/plain": [
              "7"
            ]
          },
          "execution_count": 816,
          "metadata": {},
          "output_type": "execute_result"
        }
      ],
      "source": [
        "test_labels[0]"
      ]
    },
    {
      "cell_type": "markdown",
      "metadata": {
        "id": "xz0O7yfW1qI1"
      },
      "source": [
        "**새로운 데이터에서 모델 평가하기**"
      ]
    },
    {
      "cell_type": "code",
      "execution_count": 719,
      "metadata": {
        "colab": {
          "base_uri": "https://localhost:8080/"
        },
        "execution": {
          "iopub.execute_input": "2022-05-21T00:57:19.437738Z",
          "iopub.status.busy": "2022-05-21T00:57:19.437092Z",
          "iopub.status.idle": "2022-05-21T00:57:20.109805Z",
          "shell.execute_reply": "2022-05-21T00:57:20.109057Z"
        },
        "id": "5n06x08R1qI1",
        "outputId": "142bfcb4-dd9d-4a12-d494-6a08d298d477"
      },
      "outputs": [
        {
          "name": "stdout",
          "output_type": "stream",
          "text": [
            "\u001b[1m313/313\u001b[0m \u001b[32m━━━━━━━━━━━━━━━━━━━━\u001b[0m\u001b[37m\u001b[0m \u001b[1m1s\u001b[0m 2ms/step - accuracy: 0.9753 - loss: 0.0776\n",
            "테스트 정확도: 0.9793000221252441\n"
          ]
        }
      ],
      "source": [
        "test_loss, test_acc = model.evaluate(test_images, test_labels)\n",
        "print(f\"테스트 정확도: {test_acc}\")"
      ]
    },
    {
      "cell_type": "markdown",
      "metadata": {
        "id": "_sf8F4Lt1qI1"
      },
      "source": [
        "## 신경망을 위한 데이터 표현"
      ]
    },
    {
      "cell_type": "markdown",
      "metadata": {
        "id": "0rIygsuR1qI1"
      },
      "source": [
        "### 스칼라 (랭크-0 텐서)"
      ]
    },
    {
      "cell_type": "code",
      "execution_count": 720,
      "metadata": {
        "colab": {
          "base_uri": "https://localhost:8080/"
        },
        "execution": {
          "iopub.execute_input": "2022-05-21T00:57:20.113826Z",
          "iopub.status.busy": "2022-05-21T00:57:20.113141Z",
          "iopub.status.idle": "2022-05-21T00:57:20.119204Z",
          "shell.execute_reply": "2022-05-21T00:57:20.118308Z"
        },
        "id": "zaKeHFt51qI1",
        "outputId": "065bad36-59b4-47c6-b69d-d360a8144d09"
      },
      "outputs": [
        {
          "data": {
            "text/plain": [
              "array(12)"
            ]
          },
          "execution_count": 720,
          "metadata": {},
          "output_type": "execute_result"
        }
      ],
      "source": [
        "import numpy as np\n",
        "x = np.array(12)\n",
        "x"
      ]
    },
    {
      "cell_type": "code",
      "execution_count": 721,
      "metadata": {
        "colab": {
          "base_uri": "https://localhost:8080/"
        },
        "execution": {
          "iopub.execute_input": "2022-05-21T00:57:20.122738Z",
          "iopub.status.busy": "2022-05-21T00:57:20.122472Z",
          "iopub.status.idle": "2022-05-21T00:57:20.127154Z",
          "shell.execute_reply": "2022-05-21T00:57:20.126388Z"
        },
        "id": "L7qdT7rT1qI1",
        "outputId": "67119500-24a5-4d6a-b097-3f32b1bcc4e3"
      },
      "outputs": [
        {
          "data": {
            "text/plain": [
              "0"
            ]
          },
          "execution_count": 721,
          "metadata": {},
          "output_type": "execute_result"
        }
      ],
      "source": [
        "x.ndim"
      ]
    },
    {
      "cell_type": "markdown",
      "metadata": {
        "id": "UBwl26_c1qI2"
      },
      "source": [
        "### 벡터 (랭크-1 텐서)"
      ]
    },
    {
      "cell_type": "code",
      "execution_count": 722,
      "metadata": {
        "colab": {
          "base_uri": "https://localhost:8080/"
        },
        "execution": {
          "iopub.execute_input": "2022-05-21T00:57:20.131021Z",
          "iopub.status.busy": "2022-05-21T00:57:20.130223Z",
          "iopub.status.idle": "2022-05-21T00:57:20.135705Z",
          "shell.execute_reply": "2022-05-21T00:57:20.135002Z"
        },
        "id": "_FZ_X24k1qI2",
        "outputId": "dd856264-0aba-475a-b392-90d7089d68a8"
      },
      "outputs": [
        {
          "data": {
            "text/plain": [
              "array([12,  3,  6, 14,  7])"
            ]
          },
          "execution_count": 722,
          "metadata": {},
          "output_type": "execute_result"
        }
      ],
      "source": [
        "x = np.array([12, 3, 6, 14, 7])\n",
        "x"
      ]
    },
    {
      "cell_type": "code",
      "execution_count": 723,
      "metadata": {
        "colab": {
          "base_uri": "https://localhost:8080/"
        },
        "execution": {
          "iopub.execute_input": "2022-05-21T00:57:20.139180Z",
          "iopub.status.busy": "2022-05-21T00:57:20.138695Z",
          "iopub.status.idle": "2022-05-21T00:57:20.143498Z",
          "shell.execute_reply": "2022-05-21T00:57:20.142627Z"
        },
        "id": "bGycblhT1qI2",
        "outputId": "72615275-af9e-4cdd-e5b1-d591c5627b5f"
      },
      "outputs": [
        {
          "data": {
            "text/plain": [
              "1"
            ]
          },
          "execution_count": 723,
          "metadata": {},
          "output_type": "execute_result"
        }
      ],
      "source": [
        "x.ndim"
      ]
    },
    {
      "cell_type": "markdown",
      "metadata": {
        "id": "aEgHXF7o1qI2"
      },
      "source": [
        "### 행렬 (랭크-2 텐서)"
      ]
    },
    {
      "cell_type": "code",
      "execution_count": 724,
      "metadata": {
        "colab": {
          "base_uri": "https://localhost:8080/"
        },
        "execution": {
          "iopub.execute_input": "2022-05-21T00:57:20.146816Z",
          "iopub.status.busy": "2022-05-21T00:57:20.146544Z",
          "iopub.status.idle": "2022-05-21T00:57:20.153035Z",
          "shell.execute_reply": "2022-05-21T00:57:20.152330Z"
        },
        "id": "w4Pfesli1qI2",
        "outputId": "fb5d4eb8-c4b9-4a01-f3f9-e2a81b629116"
      },
      "outputs": [
        {
          "data": {
            "text/plain": [
              "2"
            ]
          },
          "execution_count": 724,
          "metadata": {},
          "output_type": "execute_result"
        }
      ],
      "source": [
        "x = np.array([[5, 78, 2, 34, 0],\n",
        "              [6, 79, 3, 35, 1],\n",
        "              [7, 80, 4, 36, 2]])\n",
        "x.ndim"
      ]
    },
    {
      "cell_type": "markdown",
      "metadata": {
        "id": "WY7v3OYg1qI2"
      },
      "source": [
        "### 랭크-3 텐서와 더 높은 랭크의 텐서"
      ]
    },
    {
      "cell_type": "code",
      "execution_count": 725,
      "metadata": {
        "colab": {
          "base_uri": "https://localhost:8080/"
        },
        "execution": {
          "iopub.execute_input": "2022-05-21T00:57:20.156415Z",
          "iopub.status.busy": "2022-05-21T00:57:20.156159Z",
          "iopub.status.idle": "2022-05-21T00:57:20.163001Z",
          "shell.execute_reply": "2022-05-21T00:57:20.162138Z"
        },
        "id": "EJw4bMhQ1qI3",
        "outputId": "5c4376c7-31a7-4719-e25b-5f00f7671819"
      },
      "outputs": [
        {
          "data": {
            "text/plain": [
              "3"
            ]
          },
          "execution_count": 725,
          "metadata": {},
          "output_type": "execute_result"
        }
      ],
      "source": [
        "x = np.array([[[5, 78, 2, 34, 0],\n",
        "               [6, 79, 3, 35, 1],\n",
        "               [7, 80, 4, 36, 2]],\n",
        "              [[5, 78, 2, 34, 0],\n",
        "               [6, 79, 3, 35, 1],\n",
        "               [7, 80, 4, 36, 2]],\n",
        "              [[5, 78, 2, 34, 0],\n",
        "               [6, 79, 3, 35, 1],\n",
        "               [7, 80, 4, 36, 2]]])\n",
        "x.ndim"
      ]
    },
    {
      "cell_type": "markdown",
      "metadata": {
        "id": "wKerwOYq1qI3"
      },
      "source": [
        "### 핵심 속성"
      ]
    },
    {
      "cell_type": "code",
      "execution_count": 726,
      "metadata": {
        "execution": {
          "iopub.execute_input": "2022-05-21T00:57:20.166433Z",
          "iopub.status.busy": "2022-05-21T00:57:20.166160Z",
          "iopub.status.idle": "2022-05-21T00:57:20.596456Z",
          "shell.execute_reply": "2022-05-21T00:57:20.595567Z"
        },
        "id": "TTHc4oX71qI3"
      },
      "outputs": [],
      "source": [
        "from tensorflow.keras.datasets import mnist\n",
        "(train_images, train_labels), (test_images, test_labels) = mnist.load_data()"
      ]
    },
    {
      "cell_type": "code",
      "execution_count": 727,
      "metadata": {
        "colab": {
          "base_uri": "https://localhost:8080/"
        },
        "execution": {
          "iopub.execute_input": "2022-05-21T00:57:20.600816Z",
          "iopub.status.busy": "2022-05-21T00:57:20.600517Z",
          "iopub.status.idle": "2022-05-21T00:57:20.605652Z",
          "shell.execute_reply": "2022-05-21T00:57:20.604662Z"
        },
        "id": "o5fj8Tyc1qI3",
        "outputId": "34456a5c-ccd0-44c6-86af-e3f1ce164939"
      },
      "outputs": [
        {
          "data": {
            "text/plain": [
              "3"
            ]
          },
          "execution_count": 727,
          "metadata": {},
          "output_type": "execute_result"
        }
      ],
      "source": [
        "train_images.ndim"
      ]
    },
    {
      "cell_type": "code",
      "execution_count": 728,
      "metadata": {
        "colab": {
          "base_uri": "https://localhost:8080/"
        },
        "execution": {
          "iopub.execute_input": "2022-05-21T00:57:20.608889Z",
          "iopub.status.busy": "2022-05-21T00:57:20.608612Z",
          "iopub.status.idle": "2022-05-21T00:57:20.614638Z",
          "shell.execute_reply": "2022-05-21T00:57:20.613826Z"
        },
        "id": "SWgMFCzV1qI3",
        "outputId": "016a653d-82eb-4583-c001-4d959c8c7df2"
      },
      "outputs": [
        {
          "data": {
            "text/plain": [
              "(60000, 28, 28)"
            ]
          },
          "execution_count": 728,
          "metadata": {},
          "output_type": "execute_result"
        }
      ],
      "source": [
        "train_images.shape"
      ]
    },
    {
      "cell_type": "code",
      "execution_count": 729,
      "metadata": {
        "colab": {
          "base_uri": "https://localhost:8080/"
        },
        "execution": {
          "iopub.execute_input": "2022-05-21T00:57:20.618889Z",
          "iopub.status.busy": "2022-05-21T00:57:20.618226Z",
          "iopub.status.idle": "2022-05-21T00:57:20.625094Z",
          "shell.execute_reply": "2022-05-21T00:57:20.624338Z"
        },
        "id": "FbDovWF61qI3",
        "outputId": "3ed78970-bca6-417c-a8cd-793571b3553f"
      },
      "outputs": [
        {
          "data": {
            "text/plain": [
              "dtype('uint8')"
            ]
          },
          "execution_count": 729,
          "metadata": {},
          "output_type": "execute_result"
        }
      ],
      "source": [
        "train_images.dtype"
      ]
    },
    {
      "cell_type": "markdown",
      "metadata": {
        "id": "JRoaVKPv1qI3"
      },
      "source": [
        "**다섯 번째 이미지 출력하기**"
      ]
    },
    {
      "cell_type": "code",
      "execution_count": 730,
      "metadata": {
        "colab": {
          "base_uri": "https://localhost:8080/",
          "height": 265
        },
        "execution": {
          "iopub.execute_input": "2022-05-21T00:57:20.628820Z",
          "iopub.status.busy": "2022-05-21T00:57:20.628306Z",
          "iopub.status.idle": "2022-05-21T00:57:21.431208Z",
          "shell.execute_reply": "2022-05-21T00:57:21.430286Z"
        },
        "id": "IIZkhp0i1qI4",
        "outputId": "7df9fcb8-bc31-450c-bdf4-cf0f462081be"
      },
      "outputs": [
        {
          "data": {
            "image/png": "[encoded data removed]",
            "text/plain": [
              "<Figure size 640x480 with 1 Axes>"
            ]
          },
          "metadata": {},
          "output_type": "display_data"
        }
      ],
      "source": [
        "import matplotlib.pyplot as plt\n",
        "digit = train_images[9]\n",
        "plt.imshow(digit, cmap=plt.cm.binary)\n",
        "plt.show()"
      ]
    },
    {
      "cell_type": "code",
      "execution_count": 731,
      "metadata": {
        "colab": {
          "base_uri": "https://localhost:8080/"
        },
        "execution": {
          "iopub.execute_input": "2022-05-21T00:57:21.435121Z",
          "iopub.status.busy": "2022-05-21T00:57:21.434503Z",
          "iopub.status.idle": "2022-05-21T00:57:21.439445Z",
          "shell.execute_reply": "2022-05-21T00:57:21.438851Z"
        },
        "id": "SIQgEABY1qI4",
        "outputId": "e432ead9-ab4a-41f3-ee02-8b766ffef3b9"
      },
      "outputs": [
        {
          "data": {
            "text/plain": [
              "4"
            ]
          },
          "execution_count": 731,
          "metadata": {},
          "output_type": "execute_result"
        }
      ],
      "source": [
        "train_labels[9]"
      ]
    },
    {
      "cell_type": "markdown",
      "metadata": {
        "id": "wBkiHJlR1qI4"
      },
      "source": [
        "### 넘파이로 텐서 조작하기"
      ]
    },
    {
      "cell_type": "code",
      "execution_count": 732,
      "metadata": {
        "colab": {
          "base_uri": "https://localhost:8080/"
        },
        "execution": {
          "iopub.execute_input": "2022-05-21T00:57:21.443500Z",
          "iopub.status.busy": "2022-05-21T00:57:21.443068Z",
          "iopub.status.idle": "2022-05-21T00:57:21.447465Z",
          "shell.execute_reply": "2022-05-21T00:57:21.446885Z"
        },
        "id": "c2A6S7-s1qI4",
        "outputId": "63397333-dd34-483d-c68d-7fa1f2e46913"
      },
      "outputs": [
        {
          "data": {
            "text/plain": [
              "(90, 28, 28)"
            ]
          },
          "execution_count": 732,
          "metadata": {},
          "output_type": "execute_result"
        }
      ],
      "source": [
        "my_slice = train_images[10:100]\n",
        "my_slice.shape"
      ]
    },
    {
      "cell_type": "code",
      "execution_count": 733,
      "metadata": {
        "colab": {
          "base_uri": "https://localhost:8080/"
        },
        "execution": {
          "iopub.execute_input": "2022-05-21T00:57:21.450776Z",
          "iopub.status.busy": "2022-05-21T00:57:21.450356Z",
          "iopub.status.idle": "2022-05-21T00:57:21.454814Z",
          "shell.execute_reply": "2022-05-21T00:57:21.454187Z"
        },
        "id": "yTGVsW8W1qI4",
        "outputId": "09304437-8f0b-405d-c076-3366ece04034"
      },
      "outputs": [
        {
          "data": {
            "text/plain": [
              "(90, 28, 28)"
            ]
          },
          "execution_count": 733,
          "metadata": {},
          "output_type": "execute_result"
        }
      ],
      "source": [
        "my_slice = train_images[10:100, :, :]\n",
        "my_slice.shape"
      ]
    },
    {
      "cell_type": "code",
      "execution_count": 734,
      "metadata": {
        "colab": {
          "base_uri": "https://localhost:8080/"
        },
        "execution": {
          "iopub.execute_input": "2022-05-21T00:57:21.458290Z",
          "iopub.status.busy": "2022-05-21T00:57:21.457804Z",
          "iopub.status.idle": "2022-05-21T00:57:21.462673Z",
          "shell.execute_reply": "2022-05-21T00:57:21.461775Z"
        },
        "id": "hQ-iwuuM1qI4",
        "outputId": "ecfff186-71c6-4fde-a9eb-f420ab69d1f5"
      },
      "outputs": [
        {
          "data": {
            "text/plain": [
              "(90, 28, 28)"
            ]
          },
          "execution_count": 734,
          "metadata": {},
          "output_type": "execute_result"
        }
      ],
      "source": [
        "my_slice = train_images[10:100, 0:28, 0:28]\n",
        "my_slice.shape"
      ]
    },
    {
      "cell_type": "code",
      "execution_count": 735,
      "metadata": {
        "execution": {
          "iopub.execute_input": "2022-05-21T00:57:21.465976Z",
          "iopub.status.busy": "2022-05-21T00:57:21.465505Z",
          "iopub.status.idle": "2022-05-21T00:57:21.469168Z",
          "shell.execute_reply": "2022-05-21T00:57:21.468362Z"
        },
        "id": "na1tzxx21qI4"
      },
      "outputs": [],
      "source": [
        "my_slice = train_images[:, 14:, 14:]"
      ]
    },
    {
      "cell_type": "code",
      "execution_count": 736,
      "metadata": {
        "execution": {
          "iopub.execute_input": "2022-05-21T00:57:21.472711Z",
          "iopub.status.busy": "2022-05-21T00:57:21.472282Z",
          "iopub.status.idle": "2022-05-21T00:57:21.476345Z",
          "shell.execute_reply": "2022-05-21T00:57:21.475454Z"
        },
        "id": "jTHEZSaa1qI5"
      },
      "outputs": [],
      "source": [
        "my_slice = train_images[:, 7:-7, 7:-7]"
      ]
    },
    {
      "cell_type": "markdown",
      "metadata": {
        "id": "VHuR99nN1qI5"
      },
      "source": [
        "### 배치 데이터"
      ]
    },
    {
      "cell_type": "code",
      "execution_count": 737,
      "metadata": {
        "execution": {
          "iopub.execute_input": "2022-05-21T00:57:21.479963Z",
          "iopub.status.busy": "2022-05-21T00:57:21.479396Z",
          "iopub.status.idle": "2022-05-21T00:57:21.482994Z",
          "shell.execute_reply": "2022-05-21T00:57:21.482245Z"
        },
        "id": "Ewj8YTjl1qI5"
      },
      "outputs": [],
      "source": [
        "batch = train_images[:128]"
      ]
    },
    {
      "cell_type": "code",
      "execution_count": 738,
      "metadata": {
        "execution": {
          "iopub.execute_input": "2022-05-21T00:57:21.486283Z",
          "iopub.status.busy": "2022-05-21T00:57:21.485817Z",
          "iopub.status.idle": "2022-05-21T00:57:21.489326Z",
          "shell.execute_reply": "2022-05-21T00:57:21.488653Z"
        },
        "id": "CKvQh_Dc1qI5"
      },
      "outputs": [],
      "source": [
        "batch = train_images[128:256]"
      ]
    },
    {
      "cell_type": "code",
      "execution_count": 739,
      "metadata": {
        "execution": {
          "iopub.execute_input": "2022-05-21T00:57:21.492485Z",
          "iopub.status.busy": "2022-05-21T00:57:21.491982Z",
          "iopub.status.idle": "2022-05-21T00:57:21.495891Z",
          "shell.execute_reply": "2022-05-21T00:57:21.495127Z"
        },
        "id": "FXxjaILB1qI5"
      },
      "outputs": [],
      "source": [
        "n = 3\n",
        "batch = train_images[128 * n:128 * (n + 1)]"
      ]
    },
    {
      "cell_type": "markdown",
      "metadata": {
        "id": "zCoiKdln1qI5"
      },
      "source": [
        "### 텐서의 실제 사례"
      ]
    },
    {
      "cell_type": "markdown",
      "metadata": {
        "id": "IdfIlLai1qI5"
      },
      "source": [
        "### 벡터 데이터"
      ]
    },
    {
      "cell_type": "markdown",
      "metadata": {
        "id": "mraA72yU1qI5"
      },
      "source": [
        "### 시계열 데이터 또는 시퀀스 데이터"
      ]
    },
    {
      "cell_type": "markdown",
      "metadata": {
        "id": "sN_C-CyC1qI5"
      },
      "source": [
        "### 이미지 데이터"
      ]
    },
    {
      "cell_type": "markdown",
      "metadata": {
        "id": "V_1Nl_5a1qI6"
      },
      "source": [
        "### 비디오 데이터"
      ]
    },
    {
      "cell_type": "markdown",
      "metadata": {
        "id": "Up42nxHL1qI6"
      },
      "source": [
        "## 신경망의 톱니바퀴: 텐서 연산"
      ]
    },
    {
      "cell_type": "markdown",
      "metadata": {
        "id": "nkl--fF91qI6"
      },
      "source": [
        "### 원소별 연산"
      ]
    },
    {
      "cell_type": "code",
      "execution_count": 740,
      "metadata": {
        "execution": {
          "iopub.execute_input": "2022-05-21T00:57:21.499755Z",
          "iopub.status.busy": "2022-05-21T00:57:21.499215Z",
          "iopub.status.idle": "2022-05-21T00:57:21.503803Z",
          "shell.execute_reply": "2022-05-21T00:57:21.502971Z"
        },
        "id": "t6Z3vq3l1qI6"
      },
      "outputs": [],
      "source": [
        "def naive_relu(x):\n",
        "    assert len(x.shape) == 2\n",
        "    x = x.copy()\n",
        "    for i in range(x.shape[0]):\n",
        "        for j in range(x.shape[1]):\n",
        "            x[i, j] = max(x[i, j], 0)\n",
        "    return x"
      ]
    },
    {
      "cell_type": "code",
      "execution_count": 741,
      "metadata": {
        "execution": {
          "iopub.execute_input": "2022-05-21T00:57:21.507340Z",
          "iopub.status.busy": "2022-05-21T00:57:21.506666Z",
          "iopub.status.idle": "2022-05-21T00:57:21.511473Z",
          "shell.execute_reply": "2022-05-21T00:57:21.510630Z"
        },
        "id": "uaoPSZmK1qI6"
      },
      "outputs": [],
      "source": [
        "def naive_add(x, y):\n",
        "    assert len(x.shape) == 2\n",
        "    assert x.shape == y.shape\n",
        "    x = x.copy()\n",
        "    for i in range(x.shape[0]):\n",
        "        for j in range(x.shape[1]):\n",
        "            x[i, j] += y[i, j]\n",
        "    return x"
      ]
    },
    {
      "cell_type": "code",
      "execution_count": 742,
      "metadata": {
        "colab": {
          "base_uri": "https://localhost:8080/"
        },
        "execution": {
          "iopub.execute_input": "2022-05-21T00:57:21.514953Z",
          "iopub.status.busy": "2022-05-21T00:57:21.514566Z",
          "iopub.status.idle": "2022-05-21T00:57:21.524287Z",
          "shell.execute_reply": "2022-05-21T00:57:21.523672Z"
        },
        "id": "yahpjVBQ1qI6",
        "outputId": "02c6ff29-69b8-4e23-90ee-31bc71af72e6"
      },
      "outputs": [
        {
          "name": "stdout",
          "output_type": "stream",
          "text": [
            "걸린 시간: 0.01 s\n"
          ]
        }
      ],
      "source": [
        "import time\n",
        "\n",
        "x = np.random.random((20, 100))\n",
        "y = np.random.random((20, 100))\n",
        "\n",
        "t0 = time.time()\n",
        "for _ in range(1000):\n",
        "    z = x + y\n",
        "    z = np.maximum(z, 0.)\n",
        "print(\"걸린 시간: {0:.2f} s\".format(time.time() - t0))"
      ]
    },
    {
      "cell_type": "code",
      "execution_count": 743,
      "metadata": {
        "colab": {
          "base_uri": "https://localhost:8080/"
        },
        "execution": {
          "iopub.execute_input": "2022-05-21T00:57:21.527704Z",
          "iopub.status.busy": "2022-05-21T00:57:21.527269Z",
          "iopub.status.idle": "2022-05-21T00:57:23.525600Z",
          "shell.execute_reply": "2022-05-21T00:57:23.524629Z"
        },
        "id": "qA4UxC_g1qI6",
        "outputId": "87d16059-2970-4e71-9141-98ca19f6bd00"
      },
      "outputs": [
        {
          "name": "stdout",
          "output_type": "stream",
          "text": [
            "걸린 시간: 2.98 s\n"
          ]
        }
      ],
      "source": [
        "t0 = time.time()\n",
        "for _ in range(1000):\n",
        "    z = naive_add(x, y)\n",
        "    z = naive_relu(z)\n",
        "print(\"걸린 시간: {0:.2f} s\".format(time.time() - t0))"
      ]
    },
    {
      "cell_type": "markdown",
      "metadata": {
        "id": "9ZkDW9ie1qI7"
      },
      "source": [
        "### 브로드캐스팅"
      ]
    },
    {
      "cell_type": "code",
      "execution_count": 744,
      "metadata": {
        "execution": {
          "iopub.execute_input": "2022-05-21T00:57:23.529492Z",
          "iopub.status.busy": "2022-05-21T00:57:23.529207Z",
          "iopub.status.idle": "2022-05-21T00:57:23.533586Z",
          "shell.execute_reply": "2022-05-21T00:57:23.532638Z"
        },
        "id": "Rpk8MkPx1qI7"
      },
      "outputs": [],
      "source": [
        "import numpy as np\n",
        "X = np.random.random((32, 10))\n",
        "y = np.random.random((10,))"
      ]
    },
    {
      "cell_type": "code",
      "execution_count": 745,
      "metadata": {
        "execution": {
          "iopub.execute_input": "2022-05-21T00:57:23.536953Z",
          "iopub.status.busy": "2022-05-21T00:57:23.536681Z",
          "iopub.status.idle": "2022-05-21T00:57:23.541762Z",
          "shell.execute_reply": "2022-05-21T00:57:23.540974Z"
        },
        "id": "dBPKHsHi1qI7"
      },
      "outputs": [],
      "source": [
        "y = np.expand_dims(y, axis=0)"
      ]
    },
    {
      "cell_type": "code",
      "execution_count": 746,
      "metadata": {
        "execution": {
          "iopub.execute_input": "2022-05-21T00:57:23.545374Z",
          "iopub.status.busy": "2022-05-21T00:57:23.545120Z",
          "iopub.status.idle": "2022-05-21T00:57:23.549140Z",
          "shell.execute_reply": "2022-05-21T00:57:23.548341Z"
        },
        "id": "3fuvM3rd1qI7"
      },
      "outputs": [],
      "source": [
        "Y = np.concatenate([y] * 32, axis=0)"
      ]
    },
    {
      "cell_type": "code",
      "execution_count": 747,
      "metadata": {
        "execution": {
          "iopub.execute_input": "2022-05-21T00:57:23.552981Z",
          "iopub.status.busy": "2022-05-21T00:57:23.552734Z",
          "iopub.status.idle": "2022-05-21T00:57:23.557779Z",
          "shell.execute_reply": "2022-05-21T00:57:23.557013Z"
        },
        "id": "DM59177S1qI7"
      },
      "outputs": [],
      "source": [
        "def naive_add_matrix_and_vector(x, y):\n",
        "    assert len(x.shape) == 2\n",
        "    assert len(y.shape) == 1\n",
        "    assert x.shape[1] == y.shape[0]\n",
        "    x = x.copy()\n",
        "    for i in range(x.shape[0]):\n",
        "        for j in range(x.shape[1]):\n",
        "            x[i, j] += y[j]\n",
        "    return x"
      ]
    },
    {
      "cell_type": "code",
      "execution_count": 748,
      "metadata": {
        "execution": {
          "iopub.execute_input": "2022-05-21T00:57:23.561664Z",
          "iopub.status.busy": "2022-05-21T00:57:23.561412Z",
          "iopub.status.idle": "2022-05-21T00:57:23.566195Z",
          "shell.execute_reply": "2022-05-21T00:57:23.565424Z"
        },
        "id": "48yuFoqQ1qI7"
      },
      "outputs": [],
      "source": [
        "import numpy as np\n",
        "x = np.random.random((64, 3, 32, 10))\n",
        "y = np.random.random((32, 10))\n",
        "z = np.maximum(x, y)"
      ]
    },
    {
      "cell_type": "markdown",
      "metadata": {
        "id": "gtaTHBhr1qI7"
      },
      "source": [
        "### 텐서 곱셈"
      ]
    },
    {
      "cell_type": "code",
      "execution_count": 749,
      "metadata": {
        "execution": {
          "iopub.execute_input": "2022-05-21T00:57:23.570018Z",
          "iopub.status.busy": "2022-05-21T00:57:23.569765Z",
          "iopub.status.idle": "2022-05-21T00:57:23.574104Z",
          "shell.execute_reply": "2022-05-21T00:57:23.573257Z"
        },
        "id": "Bfm1DPx91qI7"
      },
      "outputs": [],
      "source": [
        "x = np.random.random((32,))\n",
        "y = np.random.random((32,))\n",
        "z = np.dot(x, y)"
      ]
    },
    {
      "cell_type": "code",
      "execution_count": 750,
      "metadata": {
        "execution": {
          "iopub.execute_input": "2022-05-21T00:57:23.578149Z",
          "iopub.status.busy": "2022-05-21T00:57:23.577898Z",
          "iopub.status.idle": "2022-05-21T00:57:23.582594Z",
          "shell.execute_reply": "2022-05-21T00:57:23.581768Z"
        },
        "id": "0NHLG02B1qI7"
      },
      "outputs": [],
      "source": [
        "def naive_vector_dot(x, y):\n",
        "    assert len(x.shape) == 1\n",
        "    assert len(y.shape) == 1\n",
        "    assert x.shape[0] == y.shape[0]\n",
        "    z = 0.\n",
        "    for i in range(x.shape[0]):\n",
        "        z += x[i] * y[i]\n",
        "    return z"
      ]
    },
    {
      "cell_type": "code",
      "execution_count": 751,
      "metadata": {
        "execution": {
          "iopub.execute_input": "2022-05-21T00:57:23.586856Z",
          "iopub.status.busy": "2022-05-21T00:57:23.586576Z",
          "iopub.status.idle": "2022-05-21T00:57:23.592373Z",
          "shell.execute_reply": "2022-05-21T00:57:23.591083Z"
        },
        "id": "vv6ks6x61qI8"
      },
      "outputs": [],
      "source": [
        "def naive_matrix_vector_dot(x, y):\n",
        "    assert len(x.shape) == 2\n",
        "    assert len(y.shape) == 1\n",
        "    assert x.shape[1] == y.shape[0]\n",
        "    z = np.zeros(x.shape[0])\n",
        "    for i in range(x.shape[0]):\n",
        "        for j in range(x.shape[1]):\n",
        "            z[i] += x[i, j] * y[j]\n",
        "    return z"
      ]
    },
    {
      "cell_type": "code",
      "execution_count": 752,
      "metadata": {
        "execution": {
          "iopub.execute_input": "2022-05-21T00:57:23.595861Z",
          "iopub.status.busy": "2022-05-21T00:57:23.595594Z",
          "iopub.status.idle": "2022-05-21T00:57:23.599907Z",
          "shell.execute_reply": "2022-05-21T00:57:23.599230Z"
        },
        "id": "Y_AwR-rh1qI8"
      },
      "outputs": [],
      "source": [
        "def naive_matrix_vector_dot(x, y):\n",
        "    z = np.zeros(x.shape[0])\n",
        "    for i in range(x.shape[0]):\n",
        "        z[i] = naive_vector_dot(x[i, :], y)\n",
        "    return z"
      ]
    },
    {
      "cell_type": "code",
      "execution_count": 753,
      "metadata": {
        "execution": {
          "iopub.execute_input": "2022-05-21T00:57:23.604217Z",
          "iopub.status.busy": "2022-05-21T00:57:23.603640Z",
          "iopub.status.idle": "2022-05-21T00:57:23.609035Z",
          "shell.execute_reply": "2022-05-21T00:57:23.608386Z"
        },
        "id": "_IJjhQB31qI8"
      },
      "outputs": [],
      "source": [
        "def naive_matrix_dot(x, y):\n",
        "    assert len(x.shape) == 2\n",
        "    assert len(y.shape) == 2\n",
        "    assert x.shape[1] == y.shape[0]\n",
        "    z = np.zeros((x.shape[0], y.shape[1]))\n",
        "    for i in range(x.shape[0]):\n",
        "        for j in range(y.shape[1]):\n",
        "            row_x = x[i, :]\n",
        "            column_y = y[:, j]\n",
        "            z[i, j] = naive_vector_dot(row_x, column_y)\n",
        "    return z"
      ]
    },
    {
      "cell_type": "markdown",
      "metadata": {
        "id": "kaVH1u8X1qI8"
      },
      "source": [
        "### 텐서 크기 변환"
      ]
    },
    {
      "cell_type": "code",
      "execution_count": 754,
      "metadata": {
        "execution": {
          "iopub.execute_input": "2022-05-21T00:57:23.612816Z",
          "iopub.status.busy": "2022-05-21T00:57:23.612353Z",
          "iopub.status.idle": "2022-05-21T00:57:23.615796Z",
          "shell.execute_reply": "2022-05-21T00:57:23.615179Z"
        },
        "id": "Yc92w48C1qI8"
      },
      "outputs": [],
      "source": [
        "train_images = train_images.reshape((60000, 28 * 28))"
      ]
    },
    {
      "cell_type": "code",
      "execution_count": 755,
      "metadata": {
        "colab": {
          "base_uri": "https://localhost:8080/"
        },
        "execution": {
          "iopub.execute_input": "2022-05-21T00:57:23.620077Z",
          "iopub.status.busy": "2022-05-21T00:57:23.619555Z",
          "iopub.status.idle": "2022-05-21T00:57:23.625554Z",
          "shell.execute_reply": "2022-05-21T00:57:23.624598Z"
        },
        "id": "0hKBrXod1qI8",
        "outputId": "538ce924-4ab0-440f-8094-43054ba0db6e"
      },
      "outputs": [
        {
          "data": {
            "text/plain": [
              "(3, 2)"
            ]
          },
          "execution_count": 755,
          "metadata": {},
          "output_type": "execute_result"
        }
      ],
      "source": [
        "x = np.array([[0., 1.],\n",
        "             [2., 3.],\n",
        "             [4., 5.]])\n",
        "x.shape"
      ]
    },
    {
      "cell_type": "code",
      "execution_count": 756,
      "metadata": {
        "colab": {
          "base_uri": "https://localhost:8080/"
        },
        "execution": {
          "iopub.execute_input": "2022-05-21T00:57:23.629139Z",
          "iopub.status.busy": "2022-05-21T00:57:23.628859Z",
          "iopub.status.idle": "2022-05-21T00:57:23.634545Z",
          "shell.execute_reply": "2022-05-21T00:57:23.633514Z"
        },
        "id": "86-wf5je1qI8",
        "outputId": "84b5c071-c121-4e66-cd41-0687a2363e50"
      },
      "outputs": [
        {
          "data": {
            "text/plain": [
              "array([[0.],\n",
              "       [1.],\n",
              "       [2.],\n",
              "       [3.],\n",
              "       [4.],\n",
              "       [5.]])"
            ]
          },
          "execution_count": 756,
          "metadata": {},
          "output_type": "execute_result"
        }
      ],
      "source": [
        "x = x.reshape((6, 1))\n",
        "x"
      ]
    },
    {
      "cell_type": "code",
      "execution_count": 757,
      "metadata": {
        "colab": {
          "base_uri": "https://localhost:8080/"
        },
        "id": "gtw2H4682AOF",
        "outputId": "3437890e-4f20-4473-e564-0e93756d7685"
      },
      "outputs": [
        {
          "data": {
            "text/plain": [
              "array([[0., 1., 2.],\n",
              "       [3., 4., 5.]])"
            ]
          },
          "execution_count": 757,
          "metadata": {},
          "output_type": "execute_result"
        }
      ],
      "source": [
        "x = x.reshape((2, 3))\n",
        "x"
      ]
    },
    {
      "cell_type": "code",
      "execution_count": 758,
      "metadata": {
        "colab": {
          "base_uri": "https://localhost:8080/"
        },
        "execution": {
          "iopub.execute_input": "2022-05-21T00:57:23.639766Z",
          "iopub.status.busy": "2022-05-21T00:57:23.639078Z",
          "iopub.status.idle": "2022-05-21T00:57:23.644899Z",
          "shell.execute_reply": "2022-05-21T00:57:23.644035Z"
        },
        "id": "Dl9-o-GI1qI8",
        "outputId": "33999b11-c2d1-4fe2-e66e-cb4506e436fa"
      },
      "outputs": [
        {
          "data": {
            "text/plain": [
              "(20, 300)"
            ]
          },
          "execution_count": 758,
          "metadata": {},
          "output_type": "execute_result"
        }
      ],
      "source": [
        "x = np.zeros((300, 20))\n",
        "x = np.transpose(x)\n",
        "x.shape"
      ]
    },
    {
      "cell_type": "markdown",
      "metadata": {
        "id": "MniATBRC1qI9"
      },
      "source": [
        "### 텐서 연산의 기하학적 해석"
      ]
    },
    {
      "cell_type": "markdown",
      "metadata": {
        "id": "Vkfc22a01qI9"
      },
      "source": [
        "### 딥러닝의 기하학적 해석"
      ]
    },
    {
      "cell_type": "markdown",
      "metadata": {
        "id": "sAFQT9yo1qI9"
      },
      "source": [
        "## 신경망의 엔진: 그레이디언트 기반 최적화"
      ]
    },
    {
      "cell_type": "markdown",
      "metadata": {
        "id": "Sa7y4mc-1qI9"
      },
      "source": [
        "### 도함수란?"
      ]
    },
    {
      "cell_type": "markdown",
      "metadata": {
        "id": "DmdsFrvu1qI9"
      },
      "source": [
        "### 텐서 연산의 도함수: 그레이디언트"
      ]
    },
    {
      "cell_type": "markdown",
      "metadata": {
        "id": "HGJX4BYw1qI9"
      },
      "source": [
        "### 확률적 경사 하강법"
      ]
    },
    {
      "cell_type": "markdown",
      "metadata": {
        "id": "vuwyaSaB1qI9"
      },
      "source": [
        "### 도함수 연결: 역전파 알고리즘"
      ]
    },
    {
      "cell_type": "markdown",
      "metadata": {
        "id": "dLFHRaA_1qI9"
      },
      "source": [
        "#### 연쇄 법칙"
      ]
    },
    {
      "cell_type": "markdown",
      "metadata": {
        "id": "uFf4jwDb1qI9"
      },
      "source": [
        "#### 계산 그래프를 활용한 자동 미분"
      ]
    },
    {
      "cell_type": "markdown",
      "metadata": {
        "id": "1FH_nw__1qI9"
      },
      "source": [
        "#### 텐서플로의 그레이디언트 테이프"
      ]
    },
    {
      "cell_type": "code",
      "execution_count": 759,
      "metadata": {
        "execution": {
          "iopub.execute_input": "2022-05-21T00:57:23.649769Z",
          "iopub.status.busy": "2022-05-21T00:57:23.649237Z",
          "iopub.status.idle": "2022-05-21T00:57:23.656183Z",
          "shell.execute_reply": "2022-05-21T00:57:23.655436Z"
        },
        "id": "gTu3wWTB1qI9"
      },
      "outputs": [],
      "source": [
        "import tensorflow as tf\n",
        "x = tf.Variable(0.)\n",
        "with tf.GradientTape() as tape:\n",
        "    y = 2 * x + 3\n",
        "grad_of_y_wrt_x = tape.gradient(y, x)"
      ]
    },
    {
      "cell_type": "code",
      "execution_count": 760,
      "metadata": {
        "execution": {
          "iopub.execute_input": "2022-05-21T00:57:23.659954Z",
          "iopub.status.busy": "2022-05-21T00:57:23.659320Z",
          "iopub.status.idle": "2022-05-21T00:57:23.665978Z",
          "shell.execute_reply": "2022-05-21T00:57:23.665192Z"
        },
        "id": "wQyEYbZo1qI-"
      },
      "outputs": [],
      "source": [
        "x = tf.Variable(tf.zeros((2, 2)))\n",
        "with tf.GradientTape() as tape:\n",
        "    y = 2 * x + 3\n",
        "grad_of_y_wrt_x = tape.gradient(y, x)"
      ]
    },
    {
      "cell_type": "code",
      "execution_count": 761,
      "metadata": {
        "execution": {
          "iopub.execute_input": "2022-05-21T00:57:23.669642Z",
          "iopub.status.busy": "2022-05-21T00:57:23.669139Z",
          "iopub.status.idle": "2022-05-21T00:57:23.677360Z",
          "shell.execute_reply": "2022-05-21T00:57:23.676599Z"
        },
        "id": "zbst9LJC1qI-"
      },
      "outputs": [],
      "source": [
        "W = tf.Variable(tf.random.uniform((2, 2)))\n",
        "b = tf.Variable(tf.zeros((2,)))\n",
        "x = tf.random.uniform((2, 2))\n",
        "with tf.GradientTape() as tape:\n",
        "    y = tf.matmul(x, W) + b\n",
        "grad_of_y_wrt_W_and_b = tape.gradient(y, [W, b])"
      ]
    },
    {
      "cell_type": "markdown",
      "metadata": {
        "id": "ma33AlGI1qI-"
      },
      "source": [
        "## 첫 번째 예제 다시 살펴보기"
      ]
    },
    {
      "cell_type": "code",
      "execution_count": 762,
      "metadata": {
        "execution": {
          "iopub.execute_input": "2022-05-21T00:57:23.681093Z",
          "iopub.status.busy": "2022-05-21T00:57:23.680602Z",
          "iopub.status.idle": "2022-05-21T00:57:24.079600Z",
          "shell.execute_reply": "2022-05-21T00:57:24.078307Z"
        },
        "id": "QwI0nrkj1qI-"
      },
      "outputs": [],
      "source": [
        "(train_images, train_labels), (test_images, test_labels) = mnist.load_data()\n",
        "train_images = train_images.reshape((60000, 28 * 28))\n",
        "train_images = train_images.astype(\"float32\") / 255\n",
        "test_images = test_images.reshape((10000, 28 * 28))\n",
        "test_images = test_images.astype(\"float32\") / 255"
      ]
    },
    {
      "cell_type": "code",
      "execution_count": 763,
      "metadata": {
        "execution": {
          "iopub.execute_input": "2022-05-21T00:57:24.084071Z",
          "iopub.status.busy": "2022-05-21T00:57:24.083440Z",
          "iopub.status.idle": "2022-05-21T00:57:24.092511Z",
          "shell.execute_reply": "2022-05-21T00:57:24.091627Z"
        },
        "id": "lmY9b4qU1qI-"
      },
      "outputs": [],
      "source": [
        "model = keras.Sequential([\n",
        "    layers.Dense(512, activation=\"relu\"),\n",
        "    layers.Dense(10, activation=\"softmax\")\n",
        "])"
      ]
    },
    {
      "cell_type": "code",
      "execution_count": 764,
      "metadata": {
        "execution": {
          "iopub.execute_input": "2022-05-21T00:57:24.096195Z",
          "iopub.status.busy": "2022-05-21T00:57:24.095736Z",
          "iopub.status.idle": "2022-05-21T00:57:24.104256Z",
          "shell.execute_reply": "2022-05-21T00:57:24.103588Z"
        },
        "id": "hfeRt6LZ1qI-"
      },
      "outputs": [],
      "source": [
        "model.compile(optimizer=\"rmsprop\",\n",
        "              loss=\"sparse_categorical_crossentropy\",\n",
        "              metrics=[\"accuracy\"])"
      ]
    },
    {
      "cell_type": "code",
      "execution_count": 765,
      "metadata": {
        "colab": {
          "base_uri": "https://localhost:8080/"
        },
        "execution": {
          "iopub.execute_input": "2022-05-21T00:57:24.107793Z",
          "iopub.status.busy": "2022-05-21T00:57:24.107143Z",
          "iopub.status.idle": "2022-05-21T00:57:34.534710Z",
          "shell.execute_reply": "2022-05-21T00:57:34.533527Z"
        },
        "id": "K903L3_y1qI-",
        "outputId": "1f197382-9a05-430c-8698-87f945b2bae1"
      },
      "outputs": [
        {
          "name": "stdout",
          "output_type": "stream",
          "text": [
            "Epoch 1/5\n"
          ]
        },
        {
          "name": "stdout",
          "output_type": "stream",
          "text": [
            "\u001b[1m469/469\u001b[0m \u001b[32m━━━━━━━━━━━━━━━━━━━━\u001b[0m\u001b[37m\u001b[0m \u001b[1m4s\u001b[0m 6ms/step - accuracy: 0.8757 - loss: 0.4369\n",
            "Epoch 2/5\n",
            "\u001b[1m469/469\u001b[0m \u001b[32m━━━━━━━━━━━━━━━━━━━━\u001b[0m\u001b[37m\u001b[0m \u001b[1m3s\u001b[0m 6ms/step - accuracy: 0.9659 - loss: 0.1133\n",
            "Epoch 3/5\n",
            "\u001b[1m469/469\u001b[0m \u001b[32m━━━━━━━━━━━━━━━━━━━━\u001b[0m\u001b[37m\u001b[0m \u001b[1m2s\u001b[0m 5ms/step - accuracy: 0.9801 - loss: 0.0707\n",
            "Epoch 4/5\n",
            "\u001b[1m469/469\u001b[0m \u001b[32m━━━━━━━━━━━━━━━━━━━━\u001b[0m\u001b[37m\u001b[0m \u001b[1m2s\u001b[0m 4ms/step - accuracy: 0.9851 - loss: 0.0507\n",
            "Epoch 5/5\n",
            "\u001b[1m469/469\u001b[0m \u001b[32m━━━━━━━━━━━━━━━━━━━━\u001b[0m\u001b[37m\u001b[0m \u001b[1m2s\u001b[0m 3ms/step - accuracy: 0.9885 - loss: 0.0377\n"
          ]
        },
        {
          "data": {
            "text/plain": [
              "<keras.src.callbacks.history.History at 0x1f08f004f90>"
            ]
          },
          "execution_count": 765,
          "metadata": {},
          "output_type": "execute_result"
        }
      ],
      "source": [
        "model.fit(train_images, train_labels, epochs=5, batch_size=128)"
      ]
    },
    {
      "cell_type": "markdown",
      "metadata": {
        "id": "XAmtOQyq1qI-"
      },
      "source": [
        "### 텐서플로를 사용해 첫 번째 예제를 밑바닥부터 다시 구현하기"
      ]
    },
    {
      "cell_type": "markdown",
      "metadata": {
        "id": "RsBD9EST1qI_"
      },
      "source": [
        "#### 단순한 Dense 클래스"
      ]
    },
    {
      "cell_type": "code",
      "execution_count": 766,
      "metadata": {
        "execution": {
          "iopub.execute_input": "2022-05-21T00:57:34.539073Z",
          "iopub.status.busy": "2022-05-21T00:57:34.538100Z",
          "iopub.status.idle": "2022-05-21T00:57:34.544603Z",
          "shell.execute_reply": "2022-05-21T00:57:34.543941Z"
        },
        "id": "2T0kW_M81qI_"
      },
      "outputs": [],
      "source": [
        "import tensorflow as tf\n",
        "\n",
        "class NaiveDense:\n",
        "    def __init__(self, input_size, output_size, activation):\n",
        "        self.activation = activation\n",
        "\n",
        "        w_shape = (input_size, output_size)\n",
        "        w_initial_value = tf.random.uniform(w_shape, minval=0, maxval=1e-1)\n",
        "        self.W = tf.Variable(w_initial_value)\n",
        "\n",
        "        b_shape = (output_size,)\n",
        "        b_initial_value = tf.zeros(b_shape)\n",
        "        self.b = tf.Variable(b_initial_value)\n",
        "\n",
        "    def __call__(self, inputs):\n",
        "        return self.activation(tf.matmul(inputs, self.W) + self.b)\n",
        "\n",
        "    @property\n",
        "    def weights(self):\n",
        "        return [self.W, self.b]"
      ]
    },
    {
      "cell_type": "markdown",
      "metadata": {
        "id": "qVHHdEOF1qI_"
      },
      "source": [
        "#### 단순한 Sequential 클래스"
      ]
    },
    {
      "cell_type": "code",
      "execution_count": 767,
      "metadata": {
        "execution": {
          "iopub.execute_input": "2022-05-21T00:57:34.549011Z",
          "iopub.status.busy": "2022-05-21T00:57:34.548061Z",
          "iopub.status.idle": "2022-05-21T00:57:34.553613Z",
          "shell.execute_reply": "2022-05-21T00:57:34.552900Z"
        },
        "id": "lQ8O3Mti1qI_"
      },
      "outputs": [],
      "source": [
        "class NaiveSequential:\n",
        "    def __init__(self, layers):\n",
        "        self.layers = layers\n",
        "\n",
        "    def __call__(self, inputs):\n",
        "        x = inputs\n",
        "        for layer in self.layers:\n",
        "           x = layer(x)\n",
        "        return x\n",
        "\n",
        "    @property\n",
        "    def weights(self):\n",
        "       weights = []\n",
        "       for layer in self.layers:\n",
        "           weights += layer.weights\n",
        "       return weights"
      ]
    },
    {
      "cell_type": "code",
      "execution_count": 768,
      "metadata": {
        "execution": {
          "iopub.execute_input": "2022-05-21T00:57:34.557429Z",
          "iopub.status.busy": "2022-05-21T00:57:34.556712Z",
          "iopub.status.idle": "2022-05-21T00:57:34.565352Z",
          "shell.execute_reply": "2022-05-21T00:57:34.564638Z"
        },
        "id": "L40rhe-A1qI_"
      },
      "outputs": [],
      "source": [
        "model = NaiveSequential([\n",
        "    NaiveDense(input_size=28 * 28, output_size=512, activation=tf.nn.relu),\n",
        "    NaiveDense(input_size=512, output_size=10, activation=tf.nn.softmax)\n",
        "])\n",
        "assert len(model.weights) == 4"
      ]
    },
    {
      "cell_type": "markdown",
      "metadata": {
        "id": "gYioh4jn1qI_"
      },
      "source": [
        "#### 배치 제너레이터"
      ]
    },
    {
      "cell_type": "code",
      "execution_count": 769,
      "metadata": {
        "execution": {
          "iopub.execute_input": "2022-05-21T00:57:34.569718Z",
          "iopub.status.busy": "2022-05-21T00:57:34.568911Z",
          "iopub.status.idle": "2022-05-21T00:57:34.575841Z",
          "shell.execute_reply": "2022-05-21T00:57:34.575023Z"
        },
        "id": "bRwX8xXS1qI_"
      },
      "outputs": [],
      "source": [
        "import math\n",
        "\n",
        "class BatchGenerator:\n",
        "    def __init__(self, images, labels, batch_size=128):\n",
        "        assert len(images) == len(labels)\n",
        "        self.index = 0\n",
        "        self.images = images\n",
        "        self.labels = labels\n",
        "        self.batch_size = batch_size\n",
        "        self.num_batches = math.ceil(len(images) / batch_size)\n",
        "\n",
        "    def next(self):\n",
        "        images = self.images[self.index : self.index + self.batch_size]\n",
        "        labels = self.labels[self.index : self.index + self.batch_size]\n",
        "        self.index += self.batch_size\n",
        "        return images, labels"
      ]
    },
    {
      "cell_type": "markdown",
      "metadata": {
        "id": "UZ89mMQQ1qI_"
      },
      "source": [
        "### 훈련 스텝 실행하기"
      ]
    },
    {
      "cell_type": "code",
      "execution_count": 770,
      "metadata": {
        "execution": {
          "iopub.execute_input": "2022-05-21T00:57:34.579548Z",
          "iopub.status.busy": "2022-05-21T00:57:34.579204Z",
          "iopub.status.idle": "2022-05-21T00:57:34.584549Z",
          "shell.execute_reply": "2022-05-21T00:57:34.583770Z"
        },
        "id": "ts_uBtwz1qJA"
      },
      "outputs": [],
      "source": [
        "def one_training_step(model, images_batch, labels_batch):\n",
        "    with tf.GradientTape() as tape:\n",
        "        predictions = model(images_batch)\n",
        "        per_sample_losses = tf.keras.losses.sparse_categorical_crossentropy(\n",
        "            labels_batch, predictions)\n",
        "        average_loss = tf.reduce_mean(per_sample_losses)\n",
        "    gradients = tape.gradient(average_loss, model.weights)\n",
        "    update_weights(gradients, model.weights)\n",
        "    return average_loss"
      ]
    },
    {
      "cell_type": "code",
      "execution_count": 771,
      "metadata": {
        "execution": {
          "iopub.execute_input": "2022-05-21T00:57:34.587934Z",
          "iopub.status.busy": "2022-05-21T00:57:34.587645Z",
          "iopub.status.idle": "2022-05-21T00:57:34.591908Z",
          "shell.execute_reply": "2022-05-21T00:57:34.591071Z"
        },
        "id": "jaZr2QHV1qJA"
      },
      "outputs": [],
      "source": [
        "learning_rate = 1e-3\n",
        "\n",
        "def update_weights(gradients, weights):\n",
        "    for g, w in zip(gradients, weights):\n",
        "        w.assign_sub(g * learning_rate)"
      ]
    },
    {
      "cell_type": "code",
      "execution_count": 772,
      "metadata": {
        "execution": {
          "iopub.execute_input": "2022-05-21T00:57:34.595476Z",
          "iopub.status.busy": "2022-05-21T00:57:34.595223Z",
          "iopub.status.idle": "2022-05-21T00:57:34.600016Z",
          "shell.execute_reply": "2022-05-21T00:57:34.599071Z"
        },
        "id": "Nn_jpOBZ1qJA"
      },
      "outputs": [],
      "source": [
        "from tensorflow.keras import optimizers\n",
        "\n",
        "optimizer = optimizers.SGD(learning_rate=1e-3)\n",
        "\n",
        "def update_weights(gradients, weights):\n",
        "    optimizer.apply_gradients(zip(gradients, weights))"
      ]
    },
    {
      "cell_type": "markdown",
      "metadata": {
        "id": "yQFTzrXG1qJA"
      },
      "source": [
        "### 전체 훈련 루프"
      ]
    },
    {
      "cell_type": "code",
      "execution_count": 773,
      "metadata": {
        "execution": {
          "iopub.execute_input": "2022-05-21T00:57:34.603512Z",
          "iopub.status.busy": "2022-05-21T00:57:34.603225Z",
          "iopub.status.idle": "2022-05-21T00:57:34.608868Z",
          "shell.execute_reply": "2022-05-21T00:57:34.607981Z"
        },
        "id": "LeD5r6c51qJA"
      },
      "outputs": [],
      "source": [
        "def fit(model, images, labels, epochs, batch_size=128):\n",
        "    for epoch_counter in range(epochs):\n",
        "        print(f\"에포크 {epoch_counter}\")\n",
        "        batch_generator = BatchGenerator(images, labels)\n",
        "        for batch_counter in range(batch_generator.num_batches):\n",
        "            images_batch, labels_batch = batch_generator.next()\n",
        "            loss = one_training_step(model, images_batch, labels_batch)\n",
        "            if batch_counter % 100 == 0:\n",
        "                print(f\"{batch_counter}번째 배치 손실: {loss:.2f}\")"
      ]
    },
    {
      "cell_type": "code",
      "execution_count": 774,
      "metadata": {
        "colab": {
          "base_uri": "https://localhost:8080/"
        },
        "execution": {
          "iopub.execute_input": "2022-05-21T00:57:34.612683Z",
          "iopub.status.busy": "2022-05-21T00:57:34.612226Z",
          "iopub.status.idle": "2022-05-21T00:58:10.090355Z",
          "shell.execute_reply": "2022-05-21T00:58:10.089432Z"
        },
        "id": "fLGhrHuT1qJA",
        "outputId": "56803d72-0146-4a47-fb3b-8896c9c21e6e"
      },
      "outputs": [
        {
          "name": "stdout",
          "output_type": "stream",
          "text": [
            "에포크 0\n",
            "0번째 배치 손실: 6.07\n",
            "100번째 배치 손실: 2.21\n",
            "200번째 배치 손실: 2.19\n",
            "300번째 배치 손실: 2.06\n",
            "400번째 배치 손실: 2.17\n",
            "에포크 1\n",
            "0번째 배치 손실: 1.89\n",
            "100번째 배치 손실: 1.86\n",
            "200번째 배치 손실: 1.82\n",
            "300번째 배치 손실: 1.67\n",
            "400번째 배치 손실: 1.79\n",
            "에포크 2\n",
            "0번째 배치 손실: 1.57\n",
            "100번째 배치 손실: 1.57\n",
            "200번째 배치 손실: 1.51\n",
            "300번째 배치 손실: 1.40\n",
            "400번째 배치 손실: 1.49\n",
            "에포크 3\n",
            "0번째 배치 손실: 1.32\n",
            "100번째 배치 손실: 1.34\n",
            "200번째 배치 손실: 1.25\n",
            "300번째 배치 손실: 1.19\n",
            "400번째 배치 손실: 1.27\n",
            "에포크 4\n",
            "0번째 배치 손실: 1.13\n",
            "100번째 배치 손실: 1.16\n",
            "200번째 배치 손실: 1.06\n",
            "300번째 배치 손실: 1.04\n",
            "400번째 배치 손실: 1.11\n",
            "에포크 5\n",
            "0번째 배치 손실: 0.98\n",
            "100번째 배치 손실: 1.03\n",
            "200번째 배치 손실: 0.92\n",
            "300번째 배치 손실: 0.92\n",
            "400번째 배치 손실: 1.00\n",
            "에포크 6\n",
            "0번째 배치 손실: 0.88\n",
            "100번째 배치 손실: 0.92\n",
            "200번째 배치 손실: 0.82\n",
            "300번째 배치 손실: 0.83\n",
            "400번째 배치 손실: 0.91\n",
            "에포크 7\n",
            "0번째 배치 손실: 0.80\n",
            "100번째 배치 손실: 0.84\n",
            "200번째 배치 손실: 0.74\n",
            "300번째 배치 손실: 0.77\n",
            "400번째 배치 손실: 0.84\n",
            "에포크 8\n",
            "0번째 배치 손실: 0.73\n",
            "100번째 배치 손실: 0.77\n",
            "200번째 배치 손실: 0.68\n",
            "300번째 배치 손실: 0.71\n",
            "400번째 배치 손실: 0.79\n",
            "에포크 9\n",
            "0번째 배치 손실: 0.68\n",
            "100번째 배치 손실: 0.72\n",
            "200번째 배치 손실: 0.63\n",
            "300번째 배치 손실: 0.67\n",
            "400번째 배치 손실: 0.75\n"
          ]
        }
      ],
      "source": [
        "from tensorflow.keras.datasets import mnist\n",
        "(train_images, train_labels), (test_images, test_labels) = mnist.load_data()\n",
        "\n",
        "train_images = train_images.reshape((60000, 28 * 28))\n",
        "train_images = train_images.astype(\"float32\") / 255\n",
        "test_images = test_images.reshape((10000, 28 * 28))\n",
        "test_images = test_images.astype(\"float32\") / 255\n",
        "\n",
        "fit(model, train_images, train_labels, epochs=10, batch_size=128)"
      ]
    },
    {
      "cell_type": "markdown",
      "metadata": {
        "id": "h5TNNZ_E1qJA"
      },
      "source": [
        "### 모델 평가하기"
      ]
    },
    {
      "cell_type": "code",
      "execution_count": 775,
      "metadata": {
        "colab": {
          "base_uri": "https://localhost:8080/"
        },
        "execution": {
          "iopub.execute_input": "2022-05-21T00:58:10.094649Z",
          "iopub.status.busy": "2022-05-21T00:58:10.094318Z",
          "iopub.status.idle": "2022-05-21T00:58:10.165292Z",
          "shell.execute_reply": "2022-05-21T00:58:10.164371Z"
        },
        "id": "S4XG6fSU1qJA",
        "outputId": "997fa656-e219-43fe-f285-3d1140877ee4"
      },
      "outputs": [
        {
          "name": "stdout",
          "output_type": "stream",
          "text": [
            "정확도: 0.81\n"
          ]
        }
      ],
      "source": [
        "predictions = model(test_images)\n",
        "predictions = predictions.numpy()\n",
        "predicted_labels = np.argmax(predictions, axis=1)\n",
        "matches = predicted_labels == test_labels\n",
        "print(f\"정확도: {matches.mean():.2f}\")"
      ]
    },
    {
      "cell_type": "code",
      "execution_count": 776,
      "metadata": {},
      "outputs": [],
      "source": [
        "import os\n",
        "import numpy as np\n",
        "from PIL import Image\n",
        "import matplotlib.pyplot as plt\n"
      ]
    },
    {
      "cell_type": "code",
      "execution_count": 860,
      "metadata": {},
      "outputs": [
        {
          "data": {
            "image/jpeg": "[encoded data removed]",
            "image/png": "[encoded data removed]",
            "text/plain": [
              "<PIL.Image.Image image mode=L size=237x216>"
            ]
          },
          "execution_count": 860,
          "metadata": {},
          "output_type": "execute_result"
        }
      ],
      "source": [
        "my_img = Image.open(\"my_number_test_02.png\").convert('L')\n",
        "my_img"
      ]
    },
    {
      "cell_type": "code",
      "execution_count": 861,
      "metadata": {},
      "outputs": [
        {
          "data": {
            "image/jpeg": "[encoded data removed]",
            "image/png": "[encoded data removed]",
            "text/plain": [
              "<PIL.Image.Image image mode=L size=28x28>"
            ]
          },
          "execution_count": 861,
          "metadata": {},
          "output_type": "execute_result"
        }
      ],
      "source": [
        "my_img = my_img.resize((28,28))\n",
        "my_img"
      ]
    },
    {
      "cell_type": "code",
      "execution_count": 862,
      "metadata": {},
      "outputs": [
        {
          "data": {
            "image/png": "[encoded data removed]",
            "text/plain": [
              "<Figure size 640x480 with 1 Axes>"
            ]
          },
          "metadata": {},
          "output_type": "display_data"
        }
      ],
      "source": [
        "plt.imshow(my_img, cmap='gray')\n",
        "plt.show()"
      ]
    },
    {
      "cell_type": "code",
      "execution_count": 873,
      "metadata": {},
      "outputs": [
        {
          "data": {
            "text/plain": [
              "(28, 28)"
            ]
          },
          "execution_count": 873,
          "metadata": {},
          "output_type": "execute_result"
        }
      ],
      "source": [
        "my_img_array = np.array(my_img)\n",
        "my_img_array.shape\n"
      ]
    },
    {
      "cell_type": "code",
      "execution_count": 874,
      "metadata": {},
      "outputs": [
        {
          "data": {
            "text/plain": [
              "array([[0.69803923, 0.6901961 , 0.6862745 , 0.68235296, 0.68235296,\n",
              "        0.68235296, 0.6784314 , 0.6784314 , 0.67058825, 0.6666667 ,\n",
              "        0.6745098 , 0.6745098 , 0.6666667 , 0.6627451 , 0.6627451 ,\n",
              "        0.654902  , 0.654902  , 0.6509804 , 0.6431373 , 0.6392157 ,\n",
              "        0.6431373 , 0.6392157 , 0.63529414, 0.627451  , 0.6313726 ,\n",
              "        0.627451  , 0.62352943, 0.62352943],\n",
              "       [0.69411767, 0.6901961 , 0.6862745 , 0.6862745 , 0.68235296,\n",
              "        0.6784314 , 0.6784314 , 0.6784314 , 0.6745098 , 0.67058825,\n",
              "        0.6666667 , 0.6666667 , 0.6666667 , 0.6627451 , 0.65882355,\n",
              "        0.65882355, 0.654902  , 0.6509804 , 0.64705884, 0.64705884,\n",
              "        0.6431373 , 0.6392157 , 0.6313726 , 0.6313726 , 0.627451  ,\n",
              "        0.62352943, 0.627451  , 0.62352943],\n",
              "       [0.6901961 , 0.6901961 , 0.6862745 , 0.68235296, 0.68235296,\n",
              "        0.6784314 , 0.6784314 , 0.6784314 , 0.6745098 , 0.67058825,\n",
              "        0.67058825, 0.6666667 , 0.67058825, 0.6627451 , 0.65882355,\n",
              "        0.654902  , 0.6509804 , 0.64705884, 0.6431373 , 0.6431373 ,\n",
              "        0.64705884, 0.6392157 , 0.63529414, 0.6313726 , 0.627451  ,\n",
              "        0.62352943, 0.62352943, 0.62352943],\n",
              "       [0.6901961 , 0.6862745 , 0.6862745 , 0.68235296, 0.6784314 ,\n",
              "        0.6784314 , 0.6745098 , 0.6784314 , 0.6745098 , 0.67058825,\n",
              "        0.6666667 , 0.6627451 , 0.67058825, 0.6627451 , 0.6627451 ,\n",
              "        0.654902  , 0.6509804 , 0.64705884, 0.6431373 , 0.6431373 ,\n",
              "        0.64705884, 0.6392157 , 0.6313726 , 0.6313726 , 0.627451  ,\n",
              "        0.61960787, 0.61960787, 0.61960787],\n",
              "       [0.69411767, 0.6901961 , 0.6862745 , 0.68235296, 0.68235296,\n",
              "        0.6784314 , 0.6745098 , 0.67058825, 0.67058825, 0.6666667 ,\n",
              "        0.65882355, 0.654902  , 0.654902  , 0.6666667 , 0.65882355,\n",
              "        0.65882355, 0.654902  , 0.64705884, 0.6431373 , 0.6392157 ,\n",
              "        0.6392157 , 0.63529414, 0.6313726 , 0.627451  , 0.62352943,\n",
              "        0.62352943, 0.61960787, 0.61960787],\n",
              "       [0.6901961 , 0.6901961 , 0.6862745 , 0.68235296, 0.6784314 ,\n",
              "        0.6745098 , 0.6745098 , 0.67058825, 0.67058825, 0.67058825,\n",
              "        0.6627451 , 0.63529414, 0.3529412 , 0.6627451 , 0.6627451 ,\n",
              "        0.654902  , 0.654902  , 0.64705884, 0.6431373 , 0.6392157 ,\n",
              "        0.6392157 , 0.6313726 , 0.627451  , 0.627451  , 0.62352943,\n",
              "        0.62352943, 0.61960787, 0.6156863 ],\n",
              "       [0.6901961 , 0.6862745 , 0.68235296, 0.6862745 , 0.6784314 ,\n",
              "        0.67058825, 0.67058825, 0.67058825, 0.67058825, 0.6666667 ,\n",
              "        0.6627451 , 0.6784314 , 0.33333334, 0.5921569 , 0.6627451 ,\n",
              "        0.654902  , 0.6509804 , 0.64705884, 0.6431373 , 0.63529414,\n",
              "        0.63529414, 0.6313726 , 0.6313726 , 0.62352943, 0.61960787,\n",
              "        0.61960787, 0.61960787, 0.6156863 ],\n",
              "       [0.6901961 , 0.6862745 , 0.6862745 , 0.6862745 , 0.68235296,\n",
              "        0.6745098 , 0.6745098 , 0.67058825, 0.67058825, 0.6666667 ,\n",
              "        0.6627451 , 0.6784314 , 0.4509804 , 0.4745098 , 0.36862746,\n",
              "        0.5803922 , 0.6627451 , 0.64705884, 0.6431373 , 0.6431373 ,\n",
              "        0.63529414, 0.627451  , 0.627451  , 0.62352943, 0.6156863 ,\n",
              "        0.6156863 , 0.6156863 , 0.6117647 ],\n",
              "       [0.6862745 , 0.6862745 , 0.6862745 , 0.68235296, 0.6784314 ,\n",
              "        0.6784314 , 0.6784314 , 0.6745098 , 0.67058825, 0.6627451 ,\n",
              "        0.65882355, 0.6627451 , 0.57254905, 0.25882354, 0.35686275,\n",
              "        0.5921569 , 0.65882355, 0.6509804 , 0.6431373 , 0.6431373 ,\n",
              "        0.6392157 , 0.6313726 , 0.627451  , 0.62352943, 0.61960787,\n",
              "        0.61960787, 0.6156863 , 0.6117647 ],\n",
              "       [0.6862745 , 0.6862745 , 0.68235296, 0.68235296, 0.6745098 ,\n",
              "        0.6745098 , 0.6745098 , 0.67058825, 0.6666667 , 0.6627451 ,\n",
              "        0.654902  , 0.6745098 , 0.45490196, 0.34509805, 0.63529414,\n",
              "        0.627451  , 0.6509804 , 0.64705884, 0.6431373 , 0.6392157 ,\n",
              "        0.6392157 , 0.6313726 , 0.627451  , 0.61960787, 0.61960787,\n",
              "        0.6156863 , 0.6156863 , 0.6156863 ],\n",
              "       [0.6901961 , 0.6862745 , 0.6862745 , 0.68235296, 0.6745098 ,\n",
              "        0.6745098 , 0.6745098 , 0.6745098 , 0.6627451 , 0.65882355,\n",
              "        0.6784314 , 0.52156866, 0.31764707, 0.41568628, 0.67058825,\n",
              "        0.64705884, 0.64705884, 0.6431373 , 0.6392157 , 0.6392157 ,\n",
              "        0.6392157 , 0.63529414, 0.6313726 , 0.61960787, 0.61960787,\n",
              "        0.61960787, 0.6117647 , 0.6117647 ],\n",
              "       [0.6862745 , 0.6862745 , 0.68235296, 0.68235296, 0.6745098 ,\n",
              "        0.67058825, 0.6745098 , 0.67058825, 0.6627451 , 0.6784314 ,\n",
              "        0.52156866, 0.41568628, 0.59607846, 0.3764706 , 0.67058825,\n",
              "        0.6509804 , 0.64705884, 0.6431373 , 0.6392157 , 0.6392157 ,\n",
              "        0.63529414, 0.6313726 , 0.6313726 , 0.62352943, 0.61960787,\n",
              "        0.61960787, 0.6117647 , 0.60784316],\n",
              "       [0.6862745 , 0.6862745 , 0.68235296, 0.6784314 , 0.6745098 ,\n",
              "        0.6745098 , 0.6666667 , 0.6666667 , 0.6862745 , 0.5372549 ,\n",
              "        0.39607844, 0.654902  , 0.60784316, 0.35686275, 0.67058825,\n",
              "        0.64705884, 0.64705884, 0.6431373 , 0.6392157 , 0.63529414,\n",
              "        0.6313726 , 0.6313726 , 0.627451  , 0.62352943, 0.6156863 ,\n",
              "        0.61960787, 0.6117647 , 0.6117647 ],\n",
              "       [0.6862745 , 0.6862745 , 0.68235296, 0.6784314 , 0.6745098 ,\n",
              "        0.6745098 , 0.67058825, 0.6862745 , 0.53333336, 0.3882353 ,\n",
              "        0.67058825, 0.68235296, 0.63529414, 0.33333334, 0.6117647 ,\n",
              "        0.65882355, 0.64705884, 0.6431373 , 0.6313726 , 0.63529414,\n",
              "        0.6431373 , 0.63529414, 0.627451  , 0.627451  , 0.61960787,\n",
              "        0.6156863 , 0.6117647 , 0.6117647 ],\n",
              "       [0.68235296, 0.6862745 , 0.6784314 , 0.6745098 , 0.6745098 ,\n",
              "        0.67058825, 0.68235296, 0.5176471 , 0.21960784, 0.44705883,\n",
              "        0.38431373, 0.3647059 , 0.34117648, 0.1882353 , 0.3372549 ,\n",
              "        0.36862746, 0.34901962, 0.34117648, 0.30980393, 0.32156864,\n",
              "        0.29411766, 0.4862745 , 0.6431373 , 0.62352943, 0.61960787,\n",
              "        0.6117647 , 0.6117647 , 0.60784316],\n",
              "       [0.6901961 , 0.68235296, 0.6784314 , 0.6745098 , 0.6745098 ,\n",
              "        0.67058825, 0.6745098 , 0.6156863 , 0.48235294, 0.50980395,\n",
              "        0.5764706 , 0.59607846, 0.60784316, 0.33333334, 0.627451  ,\n",
              "        0.627451  , 0.6313726 , 0.6313726 , 0.6313726 , 0.6117647 ,\n",
              "        0.58431375, 0.60784316, 0.627451  , 0.62352943, 0.61960787,\n",
              "        0.6117647 , 0.6117647 , 0.60784316],\n",
              "       [0.6862745 , 0.68235296, 0.6784314 , 0.6745098 , 0.6784314 ,\n",
              "        0.67058825, 0.6666667 , 0.6666667 , 0.68235296, 0.6666667 ,\n",
              "        0.654902  , 0.6509804 , 0.654902  , 0.34117648, 0.6156863 ,\n",
              "        0.6509804 , 0.64705884, 0.6392157 , 0.6431373 , 0.6392157 ,\n",
              "        0.6392157 , 0.627451  , 0.62352943, 0.61960787, 0.6156863 ,\n",
              "        0.6117647 , 0.6117647 , 0.60784316],\n",
              "       [0.68235296, 0.68235296, 0.68235296, 0.6784314 , 0.6745098 ,\n",
              "        0.67058825, 0.6666667 , 0.6627451 , 0.65882355, 0.654902  ,\n",
              "        0.6509804 , 0.6509804 , 0.6627451 , 0.37254903, 0.5803922 ,\n",
              "        0.64705884, 0.6392157 , 0.6431373 , 0.63529414, 0.63529414,\n",
              "        0.6313726 , 0.627451  , 0.62352943, 0.6156863 , 0.6117647 ,\n",
              "        0.6117647 , 0.60784316, 0.6039216 ],\n",
              "       [0.68235296, 0.68235296, 0.68235296, 0.68235296, 0.6745098 ,\n",
              "        0.67058825, 0.6666667 , 0.6627451 , 0.65882355, 0.65882355,\n",
              "        0.6509804 , 0.6509804 , 0.6627451 , 0.3764706 , 0.57254905,\n",
              "        0.6509804 , 0.6392157 , 0.63529414, 0.63529414, 0.63529414,\n",
              "        0.627451  , 0.627451  , 0.62352943, 0.6156863 , 0.6117647 ,\n",
              "        0.6117647 , 0.6039216 , 0.6039216 ],\n",
              "       [0.68235296, 0.6784314 , 0.6784314 , 0.6784314 , 0.6745098 ,\n",
              "        0.67058825, 0.6666667 , 0.6627451 , 0.654902  , 0.654902  ,\n",
              "        0.6509804 , 0.64705884, 0.6666667 , 0.36862746, 0.57254905,\n",
              "        0.64705884, 0.6431373 , 0.6392157 , 0.6313726 , 0.6313726 ,\n",
              "        0.627451  , 0.627451  , 0.61960787, 0.61960787, 0.6117647 ,\n",
              "        0.60784316, 0.6039216 , 0.6039216 ],\n",
              "       [0.68235296, 0.6784314 , 0.6784314 , 0.6784314 , 0.6745098 ,\n",
              "        0.67058825, 0.67058825, 0.6627451 , 0.65882355, 0.654902  ,\n",
              "        0.6509804 , 0.6431373 , 0.6666667 , 0.3529412 , 0.5529412 ,\n",
              "        0.6509804 , 0.6431373 , 0.6392157 , 0.63529414, 0.6313726 ,\n",
              "        0.627451  , 0.627451  , 0.62352943, 0.61960787, 0.6156863 ,\n",
              "        0.60784316, 0.6039216 , 0.6       ],\n",
              "       [0.68235296, 0.6784314 , 0.6745098 , 0.6745098 , 0.6745098 ,\n",
              "        0.6666667 , 0.6666667 , 0.6627451 , 0.65882355, 0.654902  ,\n",
              "        0.6509804 , 0.64705884, 0.6627451 , 0.36078432, 0.54901963,\n",
              "        0.64705884, 0.6392157 , 0.6392157 , 0.63529414, 0.63529414,\n",
              "        0.627451  , 0.627451  , 0.61960787, 0.6156863 , 0.6156863 ,\n",
              "        0.60784316, 0.6039216 , 0.6039216 ],\n",
              "       [0.68235296, 0.6784314 , 0.67058825, 0.6745098 , 0.6666667 ,\n",
              "        0.6666667 , 0.6666667 , 0.6627451 , 0.65882355, 0.65882355,\n",
              "        0.654902  , 0.64705884, 0.6431373 , 0.61960787, 0.6392157 ,\n",
              "        0.6392157 , 0.6392157 , 0.6392157 , 0.6431373 , 0.63529414,\n",
              "        0.627451  , 0.62352943, 0.61960787, 0.6156863 , 0.6156863 ,\n",
              "        0.6117647 , 0.60784316, 0.6       ],\n",
              "       [0.68235296, 0.6784314 , 0.6784314 , 0.6745098 , 0.67058825,\n",
              "        0.6627451 , 0.6666667 , 0.6627451 , 0.6627451 , 0.654902  ,\n",
              "        0.6509804 , 0.6509804 , 0.64705884, 0.6431373 , 0.6392157 ,\n",
              "        0.6392157 , 0.63529414, 0.6313726 , 0.6313726 , 0.6313726 ,\n",
              "        0.627451  , 0.62352943, 0.61960787, 0.6117647 , 0.6117647 ,\n",
              "        0.6117647 , 0.60784316, 0.6       ],\n",
              "       [0.68235296, 0.6784314 , 0.6784314 , 0.6784314 , 0.67058825,\n",
              "        0.6666667 , 0.6666667 , 0.6627451 , 0.65882355, 0.6509804 ,\n",
              "        0.6509804 , 0.6509804 , 0.64705884, 0.6392157 , 0.6392157 ,\n",
              "        0.6392157 , 0.63529414, 0.6392157 , 0.6313726 , 0.627451  ,\n",
              "        0.627451  , 0.627451  , 0.62352943, 0.6156863 , 0.6117647 ,\n",
              "        0.6117647 , 0.6039216 , 0.6039216 ],\n",
              "       [0.68235296, 0.6784314 , 0.6784314 , 0.6784314 , 0.67058825,\n",
              "        0.67058825, 0.6666667 , 0.6627451 , 0.65882355, 0.6509804 ,\n",
              "        0.6509804 , 0.6509804 , 0.6431373 , 0.6392157 , 0.6392157 ,\n",
              "        0.6392157 , 0.63529414, 0.63529414, 0.6313726 , 0.627451  ,\n",
              "        0.62352943, 0.627451  , 0.61960787, 0.61960787, 0.6117647 ,\n",
              "        0.60784316, 0.6039216 , 0.6       ],\n",
              "       [0.68235296, 0.6784314 , 0.6784314 , 0.6784314 , 0.6745098 ,\n",
              "        0.67058825, 0.6666667 , 0.6627451 , 0.65882355, 0.6509804 ,\n",
              "        0.6509804 , 0.64705884, 0.64705884, 0.6431373 , 0.6392157 ,\n",
              "        0.6392157 , 0.63529414, 0.6313726 , 0.6313726 , 0.627451  ,\n",
              "        0.62352943, 0.61960787, 0.61960787, 0.61960787, 0.6156863 ,\n",
              "        0.60784316, 0.6039216 , 0.6       ],\n",
              "       [0.6784314 , 0.6784314 , 0.6784314 , 0.6784314 , 0.6745098 ,\n",
              "        0.67058825, 0.6666667 , 0.6627451 , 0.65882355, 0.654902  ,\n",
              "        0.6509804 , 0.64705884, 0.6431373 , 0.6431373 , 0.6431373 ,\n",
              "        0.6392157 , 0.63529414, 0.6313726 , 0.6313726 , 0.62352943,\n",
              "        0.62352943, 0.62352943, 0.6117647 , 0.6117647 , 0.6117647 ,\n",
              "        0.6039216 , 0.6039216 , 0.6039216 ]], dtype=float32)"
            ]
          },
          "execution_count": 874,
          "metadata": {},
          "output_type": "execute_result"
        }
      ],
      "source": [
        "my_img_array = my_img_array.astype(\"float32\") / 255\n",
        "my_img_array "
      ]
    },
    {
      "cell_type": "code",
      "execution_count": 875,
      "metadata": {},
      "outputs": [
        {
          "data": {
            "text/plain": [
              "array([[0.69803923, 0.6901961 , 0.6862745 , 0.68235296, 0.68235296,\n",
              "        0.68235296, 0.6784314 , 0.6784314 , 0.67058825, 0.6666667 ,\n",
              "        0.6745098 , 0.6745098 , 0.6666667 , 0.6627451 , 0.6627451 ,\n",
              "        0.654902  , 0.654902  , 0.6509804 , 0.6431373 , 0.6392157 ,\n",
              "        0.6431373 , 0.6392157 , 0.63529414, 0.627451  , 0.6313726 ,\n",
              "        0.627451  , 0.62352943, 0.62352943, 0.69411767, 0.6901961 ,\n",
              "        0.6862745 , 0.6862745 , 0.68235296, 0.6784314 , 0.6784314 ,\n",
              "        0.6784314 , 0.6745098 , 0.67058825, 0.6666667 , 0.6666667 ,\n",
              "        0.6666667 , 0.6627451 , 0.65882355, 0.65882355, 0.654902  ,\n",
              "        0.6509804 , 0.64705884, 0.64705884, 0.6431373 , 0.6392157 ,\n",
              "        0.6313726 , 0.6313726 , 0.627451  , 0.62352943, 0.627451  ,\n",
              "        0.62352943, 0.6901961 , 0.6901961 , 0.6862745 , 0.68235296,\n",
              "        0.68235296, 0.6784314 , 0.6784314 , 0.6784314 , 0.6745098 ,\n",
              "        0.67058825, 0.67058825, 0.6666667 , 0.67058825, 0.6627451 ,\n",
              "        0.65882355, 0.654902  , 0.6509804 , 0.64705884, 0.6431373 ,\n",
              "        0.6431373 , 0.64705884, 0.6392157 , 0.63529414, 0.6313726 ,\n",
              "        0.627451  , 0.62352943, 0.62352943, 0.62352943, 0.6901961 ,\n",
              "        0.6862745 , 0.6862745 , 0.68235296, 0.6784314 , 0.6784314 ,\n",
              "        0.6745098 , 0.6784314 , 0.6745098 , 0.67058825, 0.6666667 ,\n",
              "        0.6627451 , 0.67058825, 0.6627451 , 0.6627451 , 0.654902  ,\n",
              "        0.6509804 , 0.64705884, 0.6431373 , 0.6431373 , 0.64705884,\n",
              "        0.6392157 , 0.6313726 , 0.6313726 , 0.627451  , 0.61960787,\n",
              "        0.61960787, 0.61960787, 0.69411767, 0.6901961 , 0.6862745 ,\n",
              "        0.68235296, 0.68235296, 0.6784314 , 0.6745098 , 0.67058825,\n",
              "        0.67058825, 0.6666667 , 0.65882355, 0.654902  , 0.654902  ,\n",
              "        0.6666667 , 0.65882355, 0.65882355, 0.654902  , 0.64705884,\n",
              "        0.6431373 , 0.6392157 , 0.6392157 , 0.63529414, 0.6313726 ,\n",
              "        0.627451  , 0.62352943, 0.62352943, 0.61960787, 0.61960787,\n",
              "        0.6901961 , 0.6901961 , 0.6862745 , 0.68235296, 0.6784314 ,\n",
              "        0.6745098 , 0.6745098 , 0.67058825, 0.67058825, 0.67058825,\n",
              "        0.6627451 , 0.63529414, 0.3529412 , 0.6627451 , 0.6627451 ,\n",
              "        0.654902  , 0.654902  , 0.64705884, 0.6431373 , 0.6392157 ,\n",
              "        0.6392157 , 0.6313726 , 0.627451  , 0.627451  , 0.62352943,\n",
              "        0.62352943, 0.61960787, 0.6156863 , 0.6901961 , 0.6862745 ,\n",
              "        0.68235296, 0.6862745 , 0.6784314 , 0.67058825, 0.67058825,\n",
              "        0.67058825, 0.67058825, 0.6666667 , 0.6627451 , 0.6784314 ,\n",
              "        0.33333334, 0.5921569 , 0.6627451 , 0.654902  , 0.6509804 ,\n",
              "        0.64705884, 0.6431373 , 0.63529414, 0.63529414, 0.6313726 ,\n",
              "        0.6313726 , 0.62352943, 0.61960787, 0.61960787, 0.61960787,\n",
              "        0.6156863 , 0.6901961 , 0.6862745 , 0.6862745 , 0.6862745 ,\n",
              "        0.68235296, 0.6745098 , 0.6745098 , 0.67058825, 0.67058825,\n",
              "        0.6666667 , 0.6627451 , 0.6784314 , 0.4509804 , 0.4745098 ,\n",
              "        0.36862746, 0.5803922 , 0.6627451 , 0.64705884, 0.6431373 ,\n",
              "        0.6431373 , 0.63529414, 0.627451  , 0.627451  , 0.62352943,\n",
              "        0.6156863 , 0.6156863 , 0.6156863 , 0.6117647 , 0.6862745 ,\n",
              "        0.6862745 , 0.6862745 , 0.68235296, 0.6784314 , 0.6784314 ,\n",
              "        0.6784314 , 0.6745098 , 0.67058825, 0.6627451 , 0.65882355,\n",
              "        0.6627451 , 0.57254905, 0.25882354, 0.35686275, 0.5921569 ,\n",
              "        0.65882355, 0.6509804 , 0.6431373 , 0.6431373 , 0.6392157 ,\n",
              "        0.6313726 , 0.627451  , 0.62352943, 0.61960787, 0.61960787,\n",
              "        0.6156863 , 0.6117647 , 0.6862745 , 0.6862745 , 0.68235296,\n",
              "        0.68235296, 0.6745098 , 0.6745098 , 0.6745098 , 0.67058825,\n",
              "        0.6666667 , 0.6627451 , 0.654902  , 0.6745098 , 0.45490196,\n",
              "        0.34509805, 0.63529414, 0.627451  , 0.6509804 , 0.64705884,\n",
              "        0.6431373 , 0.6392157 , 0.6392157 , 0.6313726 , 0.627451  ,\n",
              "        0.61960787, 0.61960787, 0.6156863 , 0.6156863 , 0.6156863 ,\n",
              "        0.6901961 , 0.6862745 , 0.6862745 , 0.68235296, 0.6745098 ,\n",
              "        0.6745098 , 0.6745098 , 0.6745098 , 0.6627451 , 0.65882355,\n",
              "        0.6784314 , 0.52156866, 0.31764707, 0.41568628, 0.67058825,\n",
              "        0.64705884, 0.64705884, 0.6431373 , 0.6392157 , 0.6392157 ,\n",
              "        0.6392157 , 0.63529414, 0.6313726 , 0.61960787, 0.61960787,\n",
              "        0.61960787, 0.6117647 , 0.6117647 , 0.6862745 , 0.6862745 ,\n",
              "        0.68235296, 0.68235296, 0.6745098 , 0.67058825, 0.6745098 ,\n",
              "        0.67058825, 0.6627451 , 0.6784314 , 0.52156866, 0.41568628,\n",
              "        0.59607846, 0.3764706 , 0.67058825, 0.6509804 , 0.64705884,\n",
              "        0.6431373 , 0.6392157 , 0.6392157 , 0.63529414, 0.6313726 ,\n",
              "        0.6313726 , 0.62352943, 0.61960787, 0.61960787, 0.6117647 ,\n",
              "        0.60784316, 0.6862745 , 0.6862745 , 0.68235296, 0.6784314 ,\n",
              "        0.6745098 , 0.6745098 , 0.6666667 , 0.6666667 , 0.6862745 ,\n",
              "        0.5372549 , 0.39607844, 0.654902  , 0.60784316, 0.35686275,\n",
              "        0.67058825, 0.64705884, 0.64705884, 0.6431373 , 0.6392157 ,\n",
              "        0.63529414, 0.6313726 , 0.6313726 , 0.627451  , 0.62352943,\n",
              "        0.6156863 , 0.61960787, 0.6117647 , 0.6117647 , 0.6862745 ,\n",
              "        0.6862745 , 0.68235296, 0.6784314 , 0.6745098 , 0.6745098 ,\n",
              "        0.67058825, 0.6862745 , 0.53333336, 0.3882353 , 0.67058825,\n",
              "        0.68235296, 0.63529414, 0.33333334, 0.6117647 , 0.65882355,\n",
              "        0.64705884, 0.6431373 , 0.6313726 , 0.63529414, 0.6431373 ,\n",
              "        0.63529414, 0.627451  , 0.627451  , 0.61960787, 0.6156863 ,\n",
              "        0.6117647 , 0.6117647 , 0.68235296, 0.6862745 , 0.6784314 ,\n",
              "        0.6745098 , 0.6745098 , 0.67058825, 0.68235296, 0.5176471 ,\n",
              "        0.21960784, 0.44705883, 0.38431373, 0.3647059 , 0.34117648,\n",
              "        0.1882353 , 0.3372549 , 0.36862746, 0.34901962, 0.34117648,\n",
              "        0.30980393, 0.32156864, 0.29411766, 0.4862745 , 0.6431373 ,\n",
              "        0.62352943, 0.61960787, 0.6117647 , 0.6117647 , 0.60784316,\n",
              "        0.6901961 , 0.68235296, 0.6784314 , 0.6745098 , 0.6745098 ,\n",
              "        0.67058825, 0.6745098 , 0.6156863 , 0.48235294, 0.50980395,\n",
              "        0.5764706 , 0.59607846, 0.60784316, 0.33333334, 0.627451  ,\n",
              "        0.627451  , 0.6313726 , 0.6313726 , 0.6313726 , 0.6117647 ,\n",
              "        0.58431375, 0.60784316, 0.627451  , 0.62352943, 0.61960787,\n",
              "        0.6117647 , 0.6117647 , 0.60784316, 0.6862745 , 0.68235296,\n",
              "        0.6784314 , 0.6745098 , 0.6784314 , 0.67058825, 0.6666667 ,\n",
              "        0.6666667 , 0.68235296, 0.6666667 , 0.654902  , 0.6509804 ,\n",
              "        0.654902  , 0.34117648, 0.6156863 , 0.6509804 , 0.64705884,\n",
              "        0.6392157 , 0.6431373 , 0.6392157 , 0.6392157 , 0.627451  ,\n",
              "        0.62352943, 0.61960787, 0.6156863 , 0.6117647 , 0.6117647 ,\n",
              "        0.60784316, 0.68235296, 0.68235296, 0.68235296, 0.6784314 ,\n",
              "        0.6745098 , 0.67058825, 0.6666667 , 0.6627451 , 0.65882355,\n",
              "        0.654902  , 0.6509804 , 0.6509804 , 0.6627451 , 0.37254903,\n",
              "        0.5803922 , 0.64705884, 0.6392157 , 0.6431373 , 0.63529414,\n",
              "        0.63529414, 0.6313726 , 0.627451  , 0.62352943, 0.6156863 ,\n",
              "        0.6117647 , 0.6117647 , 0.60784316, 0.6039216 , 0.68235296,\n",
              "        0.68235296, 0.68235296, 0.68235296, 0.6745098 , 0.67058825,\n",
              "        0.6666667 , 0.6627451 , 0.65882355, 0.65882355, 0.6509804 ,\n",
              "        0.6509804 , 0.6627451 , 0.3764706 , 0.57254905, 0.6509804 ,\n",
              "        0.6392157 , 0.63529414, 0.63529414, 0.63529414, 0.627451  ,\n",
              "        0.627451  , 0.62352943, 0.6156863 , 0.6117647 , 0.6117647 ,\n",
              "        0.6039216 , 0.6039216 , 0.68235296, 0.6784314 , 0.6784314 ,\n",
              "        0.6784314 , 0.6745098 , 0.67058825, 0.6666667 , 0.6627451 ,\n",
              "        0.654902  , 0.654902  , 0.6509804 , 0.64705884, 0.6666667 ,\n",
              "        0.36862746, 0.57254905, 0.64705884, 0.6431373 , 0.6392157 ,\n",
              "        0.6313726 , 0.6313726 , 0.627451  , 0.627451  , 0.61960787,\n",
              "        0.61960787, 0.6117647 , 0.60784316, 0.6039216 , 0.6039216 ,\n",
              "        0.68235296, 0.6784314 , 0.6784314 , 0.6784314 , 0.6745098 ,\n",
              "        0.67058825, 0.67058825, 0.6627451 , 0.65882355, 0.654902  ,\n",
              "        0.6509804 , 0.6431373 , 0.6666667 , 0.3529412 , 0.5529412 ,\n",
              "        0.6509804 , 0.6431373 , 0.6392157 , 0.63529414, 0.6313726 ,\n",
              "        0.627451  , 0.627451  , 0.62352943, 0.61960787, 0.6156863 ,\n",
              "        0.60784316, 0.6039216 , 0.6       , 0.68235296, 0.6784314 ,\n",
              "        0.6745098 , 0.6745098 , 0.6745098 , 0.6666667 , 0.6666667 ,\n",
              "        0.6627451 , 0.65882355, 0.654902  , 0.6509804 , 0.64705884,\n",
              "        0.6627451 , 0.36078432, 0.54901963, 0.64705884, 0.6392157 ,\n",
              "        0.6392157 , 0.63529414, 0.63529414, 0.627451  , 0.627451  ,\n",
              "        0.61960787, 0.6156863 , 0.6156863 , 0.60784316, 0.6039216 ,\n",
              "        0.6039216 , 0.68235296, 0.6784314 , 0.67058825, 0.6745098 ,\n",
              "        0.6666667 , 0.6666667 , 0.6666667 , 0.6627451 , 0.65882355,\n",
              "        0.65882355, 0.654902  , 0.64705884, 0.6431373 , 0.61960787,\n",
              "        0.6392157 , 0.6392157 , 0.6392157 , 0.6392157 , 0.6431373 ,\n",
              "        0.63529414, 0.627451  , 0.62352943, 0.61960787, 0.6156863 ,\n",
              "        0.6156863 , 0.6117647 , 0.60784316, 0.6       , 0.68235296,\n",
              "        0.6784314 , 0.6784314 , 0.6745098 , 0.67058825, 0.6627451 ,\n",
              "        0.6666667 , 0.6627451 , 0.6627451 , 0.654902  , 0.6509804 ,\n",
              "        0.6509804 , 0.64705884, 0.6431373 , 0.6392157 , 0.6392157 ,\n",
              "        0.63529414, 0.6313726 , 0.6313726 , 0.6313726 , 0.627451  ,\n",
              "        0.62352943, 0.61960787, 0.6117647 , 0.6117647 , 0.6117647 ,\n",
              "        0.60784316, 0.6       , 0.68235296, 0.6784314 , 0.6784314 ,\n",
              "        0.6784314 , 0.67058825, 0.6666667 , 0.6666667 , 0.6627451 ,\n",
              "        0.65882355, 0.6509804 , 0.6509804 , 0.6509804 , 0.64705884,\n",
              "        0.6392157 , 0.6392157 , 0.6392157 , 0.63529414, 0.6392157 ,\n",
              "        0.6313726 , 0.627451  , 0.627451  , 0.627451  , 0.62352943,\n",
              "        0.6156863 , 0.6117647 , 0.6117647 , 0.6039216 , 0.6039216 ,\n",
              "        0.68235296, 0.6784314 , 0.6784314 , 0.6784314 , 0.67058825,\n",
              "        0.67058825, 0.6666667 , 0.6627451 , 0.65882355, 0.6509804 ,\n",
              "        0.6509804 , 0.6509804 , 0.6431373 , 0.6392157 , 0.6392157 ,\n",
              "        0.6392157 , 0.63529414, 0.63529414, 0.6313726 , 0.627451  ,\n",
              "        0.62352943, 0.627451  , 0.61960787, 0.61960787, 0.6117647 ,\n",
              "        0.60784316, 0.6039216 , 0.6       , 0.68235296, 0.6784314 ,\n",
              "        0.6784314 , 0.6784314 , 0.6745098 , 0.67058825, 0.6666667 ,\n",
              "        0.6627451 , 0.65882355, 0.6509804 , 0.6509804 , 0.64705884,\n",
              "        0.64705884, 0.6431373 , 0.6392157 , 0.6392157 , 0.63529414,\n",
              "        0.6313726 , 0.6313726 , 0.627451  , 0.62352943, 0.61960787,\n",
              "        0.61960787, 0.61960787, 0.6156863 , 0.60784316, 0.6039216 ,\n",
              "        0.6       , 0.6784314 , 0.6784314 , 0.6784314 , 0.6784314 ,\n",
              "        0.6745098 , 0.67058825, 0.6666667 , 0.6627451 , 0.65882355,\n",
              "        0.654902  , 0.6509804 , 0.64705884, 0.6431373 , 0.6431373 ,\n",
              "        0.6431373 , 0.6392157 , 0.63529414, 0.6313726 , 0.6313726 ,\n",
              "        0.62352943, 0.62352943, 0.62352943, 0.6117647 , 0.6117647 ,\n",
              "        0.6117647 , 0.6039216 , 0.6039216 , 0.6039216 ]], dtype=float32)"
            ]
          },
          "execution_count": 875,
          "metadata": {},
          "output_type": "execute_result"
        }
      ],
      "source": [
        "test_my_img = my_img_array.reshape((1, 28 * 28))  # Reshape to (number_of_samples, 784)\n",
        "test_my_img"
      ]
    },
    {
      "cell_type": "code",
      "execution_count": 876,
      "metadata": {},
      "outputs": [
        {
          "data": {
            "text/plain": [
              "array([[0.        , 0.        , 0.        , 0.        , 0.        ,\n",
              "        0.        , 0.        , 0.        , 0.        , 0.        ,\n",
              "        0.        , 0.        , 0.        , 0.        , 0.        ,\n",
              "        0.        , 0.        , 0.        , 0.        , 0.        ,\n",
              "        0.        , 0.        , 0.        , 0.        , 0.        ,\n",
              "        0.        , 0.        , 0.        , 0.        , 0.        ,\n",
              "        0.        , 0.        , 0.        , 0.        , 0.        ,\n",
              "        0.        , 0.        , 0.        , 0.        , 0.        ,\n",
              "        0.        , 0.        , 0.        , 0.        , 0.        ,\n",
              "        0.        , 0.        , 0.        , 0.        , 0.        ,\n",
              "        0.        , 0.        , 0.        , 0.        , 0.        ,\n",
              "        0.        , 0.        , 0.        , 0.        , 0.        ,\n",
              "        0.        , 0.        , 0.        , 0.        , 0.        ,\n",
              "        0.        , 0.        , 0.        , 0.        , 0.        ,\n",
              "        0.        , 0.        , 0.        , 0.        , 0.        ,\n",
              "        0.        , 0.        , 0.        , 0.        , 0.        ,\n",
              "        0.        , 0.        , 0.        , 0.        , 0.        ,\n",
              "        0.        , 0.        , 0.        , 0.        , 0.        ,\n",
              "        0.        , 0.        , 0.        , 0.        , 0.        ,\n",
              "        0.        , 0.        , 0.        , 0.        , 0.        ,\n",
              "        0.        , 0.        , 0.        , 0.        , 0.        ,\n",
              "        0.        , 0.        , 0.        , 0.        , 0.        ,\n",
              "        0.        , 0.        , 0.        , 0.        , 0.        ,\n",
              "        0.        , 0.        , 0.        , 0.        , 0.        ,\n",
              "        0.        , 0.        , 0.        , 0.        , 0.        ,\n",
              "        0.        , 0.        , 0.        , 0.        , 0.        ,\n",
              "        0.        , 0.        , 0.        , 0.        , 0.        ,\n",
              "        0.        , 0.        , 0.        , 0.        , 0.        ,\n",
              "        0.        , 0.        , 0.        , 0.        , 0.        ,\n",
              "        0.        , 0.        , 0.        , 0.        , 0.        ,\n",
              "        0.        , 0.        , 0.3529412 , 0.        , 0.        ,\n",
              "        0.        , 0.        , 0.        , 0.        , 0.        ,\n",
              "        0.        , 0.        , 0.        , 0.        , 0.        ,\n",
              "        0.        , 0.        , 0.        , 0.        , 0.        ,\n",
              "        0.        , 0.        , 0.        , 0.        , 0.        ,\n",
              "        0.        , 0.        , 0.        , 0.        , 0.        ,\n",
              "        0.33333334, 0.        , 0.        , 0.        , 0.        ,\n",
              "        0.        , 0.        , 0.        , 0.        , 0.        ,\n",
              "        0.        , 0.        , 0.        , 0.        , 0.        ,\n",
              "        0.        , 0.        , 0.        , 0.        , 0.        ,\n",
              "        0.        , 0.        , 0.        , 0.        , 0.        ,\n",
              "        0.        , 0.        , 0.        , 0.        , 0.        ,\n",
              "        0.36862746, 0.        , 0.        , 0.        , 0.        ,\n",
              "        0.        , 0.        , 0.        , 0.        , 0.        ,\n",
              "        0.        , 0.        , 0.        , 0.        , 0.        ,\n",
              "        0.        , 0.        , 0.        , 0.        , 0.        ,\n",
              "        0.        , 0.        , 0.        , 0.        , 0.        ,\n",
              "        0.        , 0.        , 0.25882354, 0.35686275, 0.        ,\n",
              "        0.        , 0.        , 0.        , 0.        , 0.        ,\n",
              "        0.        , 0.        , 0.        , 0.        , 0.        ,\n",
              "        0.        , 0.        , 0.        , 0.        , 0.        ,\n",
              "        0.        , 0.        , 0.        , 0.        , 0.        ,\n",
              "        0.        , 0.        , 0.        , 0.        , 0.        ,\n",
              "        0.34509805, 0.        , 0.        , 0.        , 0.        ,\n",
              "        0.        , 0.        , 0.        , 0.        , 0.        ,\n",
              "        0.        , 0.        , 0.        , 0.        , 0.        ,\n",
              "        0.        , 0.        , 0.        , 0.        , 0.        ,\n",
              "        0.        , 0.        , 0.        , 0.        , 0.        ,\n",
              "        0.        , 0.        , 0.31764707, 0.41568628, 0.        ,\n",
              "        0.        , 0.        , 0.        , 0.        , 0.        ,\n",
              "        0.        , 0.        , 0.        , 0.        , 0.        ,\n",
              "        0.        , 0.        , 0.        , 0.        , 0.        ,\n",
              "        0.        , 0.        , 0.        , 0.        , 0.        ,\n",
              "        0.        , 0.        , 0.        , 0.        , 0.41568628,\n",
              "        0.        , 0.3764706 , 0.        , 0.        , 0.        ,\n",
              "        0.        , 0.        , 0.        , 0.        , 0.        ,\n",
              "        0.        , 0.        , 0.        , 0.        , 0.        ,\n",
              "        0.        , 0.        , 0.        , 0.        , 0.        ,\n",
              "        0.        , 0.        , 0.        , 0.        , 0.        ,\n",
              "        0.        , 0.39607844, 0.        , 0.        , 0.35686275,\n",
              "        0.        , 0.        , 0.        , 0.        , 0.        ,\n",
              "        0.        , 0.        , 0.        , 0.        , 0.        ,\n",
              "        0.        , 0.        , 0.        , 0.        , 0.        ,\n",
              "        0.        , 0.        , 0.        , 0.        , 0.        ,\n",
              "        0.        , 0.        , 0.        , 0.3882353 , 0.        ,\n",
              "        0.        , 0.        , 0.33333334, 0.        , 0.        ,\n",
              "        0.        , 0.        , 0.        , 0.        , 0.        ,\n",
              "        0.        , 0.        , 0.        , 0.        , 0.        ,\n",
              "        0.        , 0.        , 0.        , 0.        , 0.        ,\n",
              "        0.        , 0.        , 0.        , 0.        , 0.        ,\n",
              "        0.21960784, 0.        , 0.38431373, 0.3647059 , 0.34117648,\n",
              "        0.1882353 , 0.3372549 , 0.36862746, 0.34901962, 0.34117648,\n",
              "        0.30980393, 0.32156864, 0.29411766, 0.        , 0.        ,\n",
              "        0.        , 0.        , 0.        , 0.        , 0.        ,\n",
              "        0.        , 0.        , 0.        , 0.        , 0.        ,\n",
              "        0.        , 0.        , 0.        , 0.        , 0.        ,\n",
              "        0.        , 0.        , 0.        , 0.33333334, 0.        ,\n",
              "        0.        , 0.        , 0.        , 0.        , 0.        ,\n",
              "        0.        , 0.        , 0.        , 0.        , 0.        ,\n",
              "        0.        , 0.        , 0.        , 0.        , 0.        ,\n",
              "        0.        , 0.        , 0.        , 0.        , 0.        ,\n",
              "        0.        , 0.        , 0.        , 0.        , 0.        ,\n",
              "        0.        , 0.34117648, 0.        , 0.        , 0.        ,\n",
              "        0.        , 0.        , 0.        , 0.        , 0.        ,\n",
              "        0.        , 0.        , 0.        , 0.        , 0.        ,\n",
              "        0.        , 0.        , 0.        , 0.        , 0.        ,\n",
              "        0.        , 0.        , 0.        , 0.        , 0.        ,\n",
              "        0.        , 0.        , 0.        , 0.        , 0.37254903,\n",
              "        0.        , 0.        , 0.        , 0.        , 0.        ,\n",
              "        0.        , 0.        , 0.        , 0.        , 0.        ,\n",
              "        0.        , 0.        , 0.        , 0.        , 0.        ,\n",
              "        0.        , 0.        , 0.        , 0.        , 0.        ,\n",
              "        0.        , 0.        , 0.        , 0.        , 0.        ,\n",
              "        0.        , 0.        , 0.3764706 , 0.        , 0.        ,\n",
              "        0.        , 0.        , 0.        , 0.        , 0.        ,\n",
              "        0.        , 0.        , 0.        , 0.        , 0.        ,\n",
              "        0.        , 0.        , 0.        , 0.        , 0.        ,\n",
              "        0.        , 0.        , 0.        , 0.        , 0.        ,\n",
              "        0.        , 0.        , 0.        , 0.        , 0.        ,\n",
              "        0.36862746, 0.        , 0.        , 0.        , 0.        ,\n",
              "        0.        , 0.        , 0.        , 0.        , 0.        ,\n",
              "        0.        , 0.        , 0.        , 0.        , 0.        ,\n",
              "        0.        , 0.        , 0.        , 0.        , 0.        ,\n",
              "        0.        , 0.        , 0.        , 0.        , 0.        ,\n",
              "        0.        , 0.        , 0.        , 0.3529412 , 0.        ,\n",
              "        0.        , 0.        , 0.        , 0.        , 0.        ,\n",
              "        0.        , 0.        , 0.        , 0.        , 0.        ,\n",
              "        0.        , 0.        , 0.        , 0.        , 0.        ,\n",
              "        0.        , 0.        , 0.        , 0.        , 0.        ,\n",
              "        0.        , 0.        , 0.        , 0.        , 0.        ,\n",
              "        0.        , 0.36078432, 0.        , 0.        , 0.        ,\n",
              "        0.        , 0.        , 0.        , 0.        , 0.        ,\n",
              "        0.        , 0.        , 0.        , 0.        , 0.        ,\n",
              "        0.        , 0.        , 0.        , 0.        , 0.        ,\n",
              "        0.        , 0.        , 0.        , 0.        , 0.        ,\n",
              "        0.        , 0.        , 0.        , 0.        , 0.        ,\n",
              "        0.        , 0.        , 0.        , 0.        , 0.        ,\n",
              "        0.        , 0.        , 0.        , 0.        , 0.        ,\n",
              "        0.        , 0.        , 0.        , 0.        , 0.        ,\n",
              "        0.        , 0.        , 0.        , 0.        , 0.        ,\n",
              "        0.        , 0.        , 0.        , 0.        , 0.        ,\n",
              "        0.        , 0.        , 0.        , 0.        , 0.        ,\n",
              "        0.        , 0.        , 0.        , 0.        , 0.        ,\n",
              "        0.        , 0.        , 0.        , 0.        , 0.        ,\n",
              "        0.        , 0.        , 0.        , 0.        , 0.        ,\n",
              "        0.        , 0.        , 0.        , 0.        , 0.        ,\n",
              "        0.        , 0.        , 0.        , 0.        , 0.        ,\n",
              "        0.        , 0.        , 0.        , 0.        , 0.        ,\n",
              "        0.        , 0.        , 0.        , 0.        , 0.        ,\n",
              "        0.        , 0.        , 0.        , 0.        , 0.        ,\n",
              "        0.        , 0.        , 0.        , 0.        , 0.        ,\n",
              "        0.        , 0.        , 0.        , 0.        , 0.        ,\n",
              "        0.        , 0.        , 0.        , 0.        , 0.        ,\n",
              "        0.        , 0.        , 0.        , 0.        , 0.        ,\n",
              "        0.        , 0.        , 0.        , 0.        , 0.        ,\n",
              "        0.        , 0.        , 0.        , 0.        , 0.        ,\n",
              "        0.        , 0.        , 0.        , 0.        , 0.        ,\n",
              "        0.        , 0.        , 0.        , 0.        , 0.        ,\n",
              "        0.        , 0.        , 0.        , 0.        , 0.        ,\n",
              "        0.        , 0.        , 0.        , 0.        , 0.        ,\n",
              "        0.        , 0.        , 0.        , 0.        , 0.        ,\n",
              "        0.        , 0.        , 0.        , 0.        , 0.        ,\n",
              "        0.        , 0.        , 0.        , 0.        , 0.        ,\n",
              "        0.        , 0.        , 0.        , 0.        , 0.        ,\n",
              "        0.        , 0.        , 0.        , 0.        , 0.        ,\n",
              "        0.        , 0.        , 0.        , 0.        , 0.        ,\n",
              "        0.        , 0.        , 0.        , 0.        ]], dtype=float32)"
            ]
          },
          "execution_count": 876,
          "metadata": {},
          "output_type": "execute_result"
        }
      ],
      "source": [
        "for i in range(len(test_my_img[0])):\n",
        "    if test_my_img[0][i] > (110 / 255):     # mnist 데이터와는 다르게 사진으로 찍은 이미지는 배경에 흑백 값이 남아서 엄청난 노이즈로 작용. 이를 제거하기 위함\n",
        "        test_my_img[0][i] = 0\n",
        "\n",
        "test_my_img"
      ]
    },
    {
      "cell_type": "code",
      "execution_count": 877,
      "metadata": {},
      "outputs": [
        {
          "name": "stdout",
          "output_type": "stream",
          "text": [
            "\u001b[1m1/1\u001b[0m \u001b[32m━━━━━━━━━━━━━━━━━━━━\u001b[0m\u001b[37m\u001b[0m \u001b[1m0s\u001b[0m 49ms/step\n"
          ]
        },
        {
          "data": {
            "text/plain": [
              "array([[0.00259317, 0.06560121, 0.02700804, 0.08765568, 0.53942317,\n",
              "        0.07981674, 0.02059206, 0.09471898, 0.02934749, 0.05324345]],\n",
              "      dtype=float32)"
            ]
          },
          "execution_count": 877,
          "metadata": {},
          "output_type": "execute_result"
        }
      ],
      "source": [
        "test_digits_my = test_my_img\n",
        "predictions_my = model.predict(test_digits_my) # 소프트맥스의 결과값을 보기 위함?\n",
        "predictions_my"
      ]
    },
    {
      "cell_type": "code",
      "execution_count": 878,
      "metadata": {},
      "outputs": [
        {
          "data": {
            "text/plain": [
              "1.0"
            ]
          },
          "execution_count": 878,
          "metadata": {},
          "output_type": "execute_result"
        }
      ],
      "source": [
        "predictions_my.sum()"
      ]
    },
    {
      "cell_type": "code",
      "execution_count": 879,
      "metadata": {},
      "outputs": [
        {
          "data": {
            "text/plain": [
              "4"
            ]
          },
          "execution_count": 879,
          "metadata": {},
          "output_type": "execute_result"
        }
      ],
      "source": [
        "predictions_my.argmax()"
      ]
    },
    {
      "cell_type": "markdown",
      "metadata": {
        "id": "DSlIQZ5f1qJB"
      },
      "source": [
        "## 요약"
      ]
    }
  ],
  "metadata": {
    "accelerator": "GPU",
    "colab": {
      "collapsed_sections": [],
      "name": "chapter02_mathematical-building-blocks.i",
      "provenance": []
    },
    "gpuClass": "standard",
    "kernelspec": {
      "display_name": "base",
      "language": "python",
      "name": "python3"
    },
    "language_info": {
      "codemirror_mode": {
        "name": "ipython",
        "version": 3
      },
      "file_extension": ".py",
      "mimetype": "text/x-python",
      "name": "python",
      "nbconvert_exporter": "python",
      "pygments_lexer": "ipython3",
      "version": "3.11.7"
    }
  },
  "nbformat": 4,
  "nbformat_minor": 0
}
