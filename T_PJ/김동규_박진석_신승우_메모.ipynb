{
  "nbformat": 4,
  "nbformat_minor": 0,
  "metadata": {
    "colab": {
      "provenance": [],
      "authorship_tag": "ABX9TyOwc0aegZ4wZ1BuB70ydz4S",
      "include_colab_link": true
    },
    "kernelspec": {
      "name": "python3",
      "display_name": "Python 3"
    },
    "language_info": {
      "name": "python"
    }
  },
  "cells": [
    {
      "cell_type": "markdown",
      "metadata": {
        "id": "view-in-github",
        "colab_type": "text"
      },
      "source": [
        "<a href=\"https://colab.research.google.com/github/bluetss/AIFFEL_quest/blob/master/T_PJ/%EA%B9%80%EB%8F%99%EA%B7%9C_%EB%B0%95%EC%A7%84%EC%84%9D_%EC%8B%A0%EC%8A%B9%EC%9A%B0_%EB%A9%94%EB%AA%A8.ipynb\" target=\"_parent\"><img src=\"https://colab.research.google.com/assets/colab-badge.svg\" alt=\"Open In Colab\"/></a>"
      ]
    },
    {
      "cell_type": "code",
      "execution_count": null,
      "metadata": {
        "id": "LXI-RhD3jjwX"
      },
      "outputs": [],
      "source": []
    },
    {
      "cell_type": "markdown",
      "source": [
        "서브 퀘스트\n",
        "# 클래스 구현\n",
        "(v)01.클래스 상속(super)\n",
        "(v)02.매직매세드(__init__)\n",
        "\n",
        "# 스테이지 구현\n",
        "(v)03.제너레이터(yield 키워드 포함)(이터러블 → for문 구현)\n",
        "\n",
        "# main 만들기\n",
        "(v)04.with구문 활용\n",
        "(v)05.캐릭터 생성\n",
        "\t(v)-플레이어 캐릭터: 이름, 체력, 공격력, 방어력, 데미지(공격시, 방어시)\n",
        "\t(v)-몬스터 캐릭터: 상동\n",
        "\t(v)-플레이어/몬스터 공통 속성과 메서드는 Character 클래스를 만들어서 자식 Player 클래스/Monster 클래스 상속\n",
        "(v)06.스테이지만들기\n",
        "\t# 공격 패턴 및 보상\n",
        "\t(v)-플레이어, 몬스터 번갈아가면서 공격하고, 하나의 체력이 0 이하가 될 때까지 공격 주고 받기\n",
        "\t(v)-플레이어가 살아남으면, '전투 승리!' 출력, 몬스터가 살아남으면, '전투 패배'\n",
        "\t(v)-플레이어 살아남으면 경험치 추가, 레벨업까지 확인하는 메서드 호출\n",
        "\n",
        "\t# 스테이지 생성\n",
        "\t(v)-몬스터 이름과 레벨이 매핑된 딕셔너리 정의(플레이어 이름을 user_name으로 입력받기)\n",
        "\t    → user_name = input('플레이어 이름을 입력해주세요: ')\n",
        "\t(v)-battle 함수를 통해서 전투\n",
        "\t(v)-with 구문으로 제너레이터 함수(battle 함수)를 불러와서 전투하는 반복문\n",
        "                →\n",
        "\t\tclass battle:\n",
        "\t\t\tdef __init__(self):\n",
        "\t\t\t\t무엇인가...\n",
        "\t\t\tdef __enter__:\n",
        "\t\t\t\tif strength >0:\n",
        "\t\t\t\t\tprint('배틀시작')\n",
        "          -\n",
        "\t\t\tdef __exit__:\n",
        "\t\t\t\tprint(f'{player.name}, 플레이 해주셔서 감사합니다!')\n",
        "\n",
        "\n",
        "    with battle() as b:\n",
        "      player\n",
        "      print(f'환영합니다, {player.name}!')\n",
        "      for i in xxxx:\n",
        "        제너레이터 함수 불러오기\n",
        "\t\t\tprint('배틀 중입니다')\n",
        "    \n",
        "    → 스테이지\n",
        "\n",
        "(v)07.캐릭터, 배틀, 메인 등 전투, 게임 실행은 Character.py, battle.py, main.py를 만들어서 코드를 따로 관리하기\n",
        "\n",
        "(v)08.터미널에서 main.py 실행하면 main 함수 실행되도록 설계\n",
        "\n",
        "* 목표\n",
        "- 예시에 나온대로만 일단 해보자(적극 동의)\n",
        "\n",
        "* 나눠서 일단 해보자\n",
        "- 김동규: 캐릭터 클래스\n",
        "- 박진석: 플레이어, 캐릭터 클래스에서 레벨, 체력, 공격력, 방어력 변수 상속 받고 예시처럼 셋팅, 경험치(레벨업) 관리\n",
        "- 신승우: 몬스터, 캐릭터 클래스에서 레벨, 체력, 공격력, 방어력 변수 상속 받고 예시처럼 셋팅, 스테이지 매핑\n",
        "\n",
        "* 회의시간\n",
        "- 1차회의: 11시 40분\n",
        "- 2차회의: 12시 30분\n",
        "- 3차회의: 14시 20분\n",
        "- 4차회의: 15시 이후~\n",
        "\n",
        "* 미해결\n",
        "01.몬스터의 남은 체력이 마이너스 값  \n",
        "\t→ if문 추가\n",
        "02.몬스터의 데미지 받은 값이 NONE 값이 뜨는 경우 발생\n",
        "03.획득 경험치 미출력\n",
        "04.스테이지 시작/종료 미출력\n",
        "05.\n",
        "\n",
        "\n"
      ],
      "metadata": {
        "id": "7fzt4lR3jkQZ"
      }
    }
  ]
}